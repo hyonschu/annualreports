{
 "cells": [
  {
   "cell_type": "code",
   "execution_count": 1,
   "metadata": {
    "collapsed": true
   },
   "outputs": [],
   "source": [
    "%matplotlib inline \n",
    "import pandas as pd\n",
    "import numpy as np\n",
    "import re"
   ]
  },
  {
   "cell_type": "code",
   "execution_count": 17,
   "metadata": {
    "collapsed": true
   },
   "outputs": [],
   "source": [
    "# turn document into \n",
    "\n",
    "tmp = ['wefaef', 'aefea', 'khkjhjk', 'ajkbaewjmncj', 'asdf', 'asdfadsfsf', 'asdfa', 'aaaa']"
   ]
  },
  {
   "cell_type": "code",
   "execution_count": 168,
   "metadata": {
    "collapsed": false
   },
   "outputs": [],
   "source": [
    "# for idx, i in enumerate(tmp): \n",
    "#     if len(i) < 5:\n",
    "#         tmp.pop(idx)\n",
    "# print tmp"
   ]
  },
  {
   "cell_type": "code",
   "execution_count": 19,
   "metadata": {
    "collapsed": false
   },
   "outputs": [
    {
     "name": "stdout",
     "output_type": "stream",
     "text": [
      " \n",
      " UNITED STATES SECURITIES AND EXCHANGE COMMISSION\n",
      " Washington, D.C. 20549\n",
      " Form 10-K        \n",
      "  \n",
      " �\n",
      "<type 'str'>\n"
     ]
    }
   ],
   "source": [
    "tmp = open('2014 annuals', 'rb')\n",
    "tmptmp = \" \".join(tmp)\n",
    "print tmptmp[:100]\n",
    "print type(tmptmp)"
   ]
  },
  {
   "cell_type": "code",
   "execution_count": 20,
   "metadata": {
    "collapsed": true
   },
   "outputs": [],
   "source": [
    "stoplist = set('for a of the and to in'.split())\n"
   ]
  },
  {
   "cell_type": "code",
   "execution_count": 21,
   "metadata": {
    "collapsed": true
   },
   "outputs": [],
   "source": [
    "tmptmp = tmptmp.replace(\"\\n  \\n\", \". \").strip()\n",
    "tmptmp = re.sub( '\\s+', ' ', tmptmp ).strip()\n",
    "tmptmp = tmptmp.replace(' .', '.')\n",
    "tmptmp = tmptmp.replace(' o ', \". \")\n",
    "# tmptmp[:1000].split('. ')"
   ]
  },
  {
   "cell_type": "code",
   "execution_count": 22,
   "metadata": {
    "collapsed": false
   },
   "outputs": [
    {
     "data": {
      "text/plain": [
       "'UNITED STATES SECURITIES AND EXCHANGE COMMISSION Washington, D.C. 20549 Form 10-K. \\xc3\\xbe ANNUAL REPORT PURSUANT TO SECTION 13 OR 15(d) OF THE SECURITIES EXCHANGE ACT OF 1934 For the fiscal year ended December 31, 2014 OR. TRANSITION REPORT PURSUANT TO SECTION 13 OR 15(d) OF THE SECURITIES EXCHANGE ACT OF 1934 For the transition period from to Commission File Number 001-00368 Chevron Corporation (Exact name of registrant as specified in its charter) Delaware. 94-0890210. 6001 Bollinger Canyon Road, San Ramon, California 94583-2324 (State or other jurisdiction of incorporation or organization). (I.R.S. Employer Identification No.). (Address of principal executive offices) (Zip Code). Registrant\\xe2\\x80\\x99s telephone number, including area code (925) 842-1000. Securities registered pursuant to Section 12 (b) of the Act:. Title of Each Class. Name of Each Exchange on Which Registered Common stock, par value $.75 per share. New York Stock Exchange, Inc. Indicate by check mark if the registrant is a we'"
      ]
     },
     "execution_count": 22,
     "metadata": {},
     "output_type": "execute_result"
    }
   ],
   "source": [
    "tmptmp[:1000]"
   ]
  },
  {
   "cell_type": "code",
   "execution_count": 69,
   "metadata": {
    "collapsed": false
   },
   "outputs": [
    {
     "name": "stdout",
     "output_type": "stream",
     "text": [
      "76259 \n",
      "\n",
      "['united states securities and exchange commission washington, d.c', '20549 form 10-k', '\\xc3\\xbe annual report pursuant to section 13 or 15(d) of the securities exchange act of 1934 for the fiscal year ended december 31, 2014 or']\n"
     ]
    }
   ],
   "source": [
    "texts = [word for word in tmptmp.lower().split('. ') if word not in stoplist]\n",
    "print len(texts), '\\n'\n",
    "print texts[:3]"
   ]
  },
  {
   "cell_type": "code",
   "execution_count": 70,
   "metadata": {
    "collapsed": false
   },
   "outputs": [],
   "source": [
    "count_dict = {}\n",
    "for i in texts:\n",
    "    if len(i.split(\" \")) not in count_dict:\n",
    "        count_dict[len(i.split(\" \"))] = 0\n",
    "    else:\n",
    "        count_dict[len(i.split(\" \"))] += 1"
   ]
  },
  {
   "cell_type": "code",
   "execution_count": 71,
   "metadata": {
    "collapsed": false
   },
   "outputs": [
    {
     "data": {
      "text/plain": [
       "<matplotlib.axes._subplots.AxesSubplot at 0x1128cf150>"
      ]
     },
     "execution_count": 71,
     "metadata": {},
     "output_type": "execute_result"
    },
    {
     "data": {
      "image/png": "[encoded data removed]",
      "text/plain": [
       "<matplotlib.figure.Figure at 0x12dcdbed0>"
      ]
     },
     "metadata": {},
     "output_type": "display_data"
    }
   ],
   "source": [
    "pd.Series(count_dict).plot(xlim=(0,10))"
   ]
  },
  {
   "cell_type": "code",
   "execution_count": 72,
   "metadata": {
    "collapsed": true
   },
   "outputs": [],
   "source": [
    "### turn this into a count matrix"
   ]
  },
  {
   "cell_type": "code",
   "execution_count": 73,
   "metadata": {
    "collapsed": false
   },
   "outputs": [],
   "source": [
    "for idx, i in enumerate(texts):\n",
    "    if len(i.split(' ')) > 5:\n",
    "        texts.pop(idx)"
   ]
  },
  {
   "cell_type": "code",
   "execution_count": 74,
   "metadata": {
    "collapsed": false
   },
   "outputs": [
    {
     "data": {
      "text/plain": [
       "52776"
      ]
     },
     "execution_count": 74,
     "metadata": {},
     "output_type": "execute_result"
    }
   ],
   "source": [
    "len(texts)"
   ]
  },
  {
   "cell_type": "code",
   "execution_count": 94,
   "metadata": {
    "collapsed": true
   },
   "outputs": [],
   "source": [
    "from sklearn.feature_extraction.text import CountVectorizer\n",
    "from sklearn.feature_extraction.text import TfidfVectorizer"
   ]
  },
  {
   "cell_type": "code",
   "execution_count": 132,
   "metadata": {
    "collapsed": false
   },
   "outputs": [],
   "source": [
    "tf = TfidfVectorizer(texts, stop_words='english')"
   ]
  },
  {
   "cell_type": "code",
   "execution_count": 134,
   "metadata": {
    "collapsed": true
   },
   "outputs": [],
   "source": [
    "text_tfidf = tf.fit_transform(texts)"
   ]
  },
  {
   "cell_type": "code",
   "execution_count": 135,
   "metadata": {
    "collapsed": false
   },
   "outputs": [],
   "source": [
    "cf = CountVectorizer(texts, stop_words='english')"
   ]
  },
  {
   "cell_type": "code",
   "execution_count": 157,
   "metadata": {
    "collapsed": true
   },
   "outputs": [],
   "source": [
    "text_counts = cf.fit_transform(texts)"
   ]
  },
  {
   "cell_type": "code",
   "execution_count": 142,
   "metadata": {
    "collapsed": false
   },
   "outputs": [],
   "source": [
    "tfidfdf = pd.DataFrame(text_tfidf.todense(), columns=tf.get_feature_names())"
   ]
  },
  {
   "cell_type": "code",
   "execution_count": 155,
   "metadata": {
    "collapsed": false
   },
   "outputs": [
    {
     "data": {
      "text/html": [
       "<div>\n",
       "<table border=\"1\" class=\"dataframe\">\n",
       "  <thead>\n",
       "    <tr style=\"text-align: right;\">\n",
       "      <th></th>\n",
       "      <th>00</th>\n",
       "      <th>000</th>\n",
       "      <th>0005</th>\n",
       "      <th>000s</th>\n",
       "      <th>001</th>\n",
       "      <th>0017682</th>\n",
       "      <th>002</th>\n",
       "      <th>0025</th>\n",
       "      <th>003</th>\n",
       "      <th>00368</th>\n",
       "      <th>...</th>\n",
       "      <th>zephyros</th>\n",
       "      <th>zero</th>\n",
       "      <th>zinc</th>\n",
       "      <th>zinia</th>\n",
       "      <th>zip</th>\n",
       "      <th>zone</th>\n",
       "      <th>zone4</th>\n",
       "      <th>zones</th>\n",
       "      <th>zoning</th>\n",
       "      <th>ýno</th>\n",
       "    </tr>\n",
       "  </thead>\n",
       "  <tbody>\n",
       "    <tr>\n",
       "      <th>0</th>\n",
       "      <td>0</td>\n",
       "      <td>0</td>\n",
       "      <td>0</td>\n",
       "      <td>0</td>\n",
       "      <td>0.000000</td>\n",
       "      <td>0</td>\n",
       "      <td>0</td>\n",
       "      <td>0</td>\n",
       "      <td>0</td>\n",
       "      <td>0.000000</td>\n",
       "      <td>...</td>\n",
       "      <td>0</td>\n",
       "      <td>0</td>\n",
       "      <td>0</td>\n",
       "      <td>0</td>\n",
       "      <td>0</td>\n",
       "      <td>0</td>\n",
       "      <td>0</td>\n",
       "      <td>0</td>\n",
       "      <td>0</td>\n",
       "      <td>0</td>\n",
       "    </tr>\n",
       "    <tr>\n",
       "      <th>1</th>\n",
       "      <td>0</td>\n",
       "      <td>0</td>\n",
       "      <td>0</td>\n",
       "      <td>0</td>\n",
       "      <td>0.186818</td>\n",
       "      <td>0</td>\n",
       "      <td>0</td>\n",
       "      <td>0</td>\n",
       "      <td>0</td>\n",
       "      <td>0.291182</td>\n",
       "      <td>...</td>\n",
       "      <td>0</td>\n",
       "      <td>0</td>\n",
       "      <td>0</td>\n",
       "      <td>0</td>\n",
       "      <td>0</td>\n",
       "      <td>0</td>\n",
       "      <td>0</td>\n",
       "      <td>0</td>\n",
       "      <td>0</td>\n",
       "      <td>0</td>\n",
       "    </tr>\n",
       "    <tr>\n",
       "      <th>2</th>\n",
       "      <td>0</td>\n",
       "      <td>0</td>\n",
       "      <td>0</td>\n",
       "      <td>0</td>\n",
       "      <td>0.000000</td>\n",
       "      <td>0</td>\n",
       "      <td>0</td>\n",
       "      <td>0</td>\n",
       "      <td>0</td>\n",
       "      <td>0.000000</td>\n",
       "      <td>...</td>\n",
       "      <td>0</td>\n",
       "      <td>0</td>\n",
       "      <td>0</td>\n",
       "      <td>0</td>\n",
       "      <td>0</td>\n",
       "      <td>0</td>\n",
       "      <td>0</td>\n",
       "      <td>0</td>\n",
       "      <td>0</td>\n",
       "      <td>0</td>\n",
       "    </tr>\n",
       "    <tr>\n",
       "      <th>3</th>\n",
       "      <td>0</td>\n",
       "      <td>0</td>\n",
       "      <td>0</td>\n",
       "      <td>0</td>\n",
       "      <td>0.000000</td>\n",
       "      <td>0</td>\n",
       "      <td>0</td>\n",
       "      <td>0</td>\n",
       "      <td>0</td>\n",
       "      <td>0.000000</td>\n",
       "      <td>...</td>\n",
       "      <td>0</td>\n",
       "      <td>0</td>\n",
       "      <td>0</td>\n",
       "      <td>0</td>\n",
       "      <td>0</td>\n",
       "      <td>0</td>\n",
       "      <td>0</td>\n",
       "      <td>0</td>\n",
       "      <td>0</td>\n",
       "      <td>0</td>\n",
       "    </tr>\n",
       "    <tr>\n",
       "      <th>4</th>\n",
       "      <td>0</td>\n",
       "      <td>0</td>\n",
       "      <td>0</td>\n",
       "      <td>0</td>\n",
       "      <td>0.000000</td>\n",
       "      <td>0</td>\n",
       "      <td>0</td>\n",
       "      <td>0</td>\n",
       "      <td>0</td>\n",
       "      <td>0.000000</td>\n",
       "      <td>...</td>\n",
       "      <td>0</td>\n",
       "      <td>0</td>\n",
       "      <td>0</td>\n",
       "      <td>0</td>\n",
       "      <td>0</td>\n",
       "      <td>0</td>\n",
       "      <td>0</td>\n",
       "      <td>0</td>\n",
       "      <td>0</td>\n",
       "      <td>0</td>\n",
       "    </tr>\n",
       "  </tbody>\n",
       "</table>\n",
       "<p>5 rows × 10312 columns</p>\n",
       "</div>"
      ],
      "text/plain": [
       "   00  000  0005  000s       001  0017682  002  0025  003     00368 ...   \\\n",
       "0   0    0     0     0  0.000000        0    0     0    0  0.000000 ...    \n",
       "1   0    0     0     0  0.186818        0    0     0    0  0.291182 ...    \n",
       "2   0    0     0     0  0.000000        0    0     0    0  0.000000 ...    \n",
       "3   0    0     0     0  0.000000        0    0     0    0  0.000000 ...    \n",
       "4   0    0     0     0  0.000000        0    0     0    0  0.000000 ...    \n",
       "\n",
       "   zephyros  zero  zinc  zinia  zip  zone  zone4  zones  zoning  ýno  \n",
       "0         0     0     0      0    0     0      0      0       0    0  \n",
       "1         0     0     0      0    0     0      0      0       0    0  \n",
       "2         0     0     0      0    0     0      0      0       0    0  \n",
       "3         0     0     0      0    0     0      0      0       0    0  \n",
       "4         0     0     0      0    0     0      0      0       0    0  \n",
       "\n",
       "[5 rows x 10312 columns]"
      ]
     },
     "execution_count": 155,
     "metadata": {},
     "output_type": "execute_result"
    }
   ],
   "source": [
    "tfidfdf.head()"
   ]
  },
  {
   "cell_type": "code",
   "execution_count": 159,
   "metadata": {
    "collapsed": false
   },
   "outputs": [],
   "source": [
    "countdf = pd.DataFrame(text_counts.todense(), columns=tf.get_feature_names())"
   ]
  },
  {
   "cell_type": "code",
   "execution_count": 160,
   "metadata": {
    "collapsed": false
   },
   "outputs": [
    {
     "data": {
      "text/html": [
       "<div>\n",
       "<table border=\"1\" class=\"dataframe\">\n",
       "  <thead>\n",
       "    <tr style=\"text-align: right;\">\n",
       "      <th></th>\n",
       "      <th>00</th>\n",
       "      <th>000</th>\n",
       "      <th>0005</th>\n",
       "      <th>000s</th>\n",
       "      <th>001</th>\n",
       "      <th>0017682</th>\n",
       "      <th>002</th>\n",
       "      <th>0025</th>\n",
       "      <th>003</th>\n",
       "      <th>00368</th>\n",
       "      <th>...</th>\n",
       "      <th>zephyros</th>\n",
       "      <th>zero</th>\n",
       "      <th>zinc</th>\n",
       "      <th>zinia</th>\n",
       "      <th>zip</th>\n",
       "      <th>zone</th>\n",
       "      <th>zone4</th>\n",
       "      <th>zones</th>\n",
       "      <th>zoning</th>\n",
       "      <th>ýno</th>\n",
       "    </tr>\n",
       "  </thead>\n",
       "  <tbody>\n",
       "    <tr>\n",
       "      <th>0</th>\n",
       "      <td>0</td>\n",
       "      <td>0</td>\n",
       "      <td>0</td>\n",
       "      <td>0</td>\n",
       "      <td>0</td>\n",
       "      <td>0</td>\n",
       "      <td>0</td>\n",
       "      <td>0</td>\n",
       "      <td>0</td>\n",
       "      <td>0</td>\n",
       "      <td>...</td>\n",
       "      <td>0</td>\n",
       "      <td>0</td>\n",
       "      <td>0</td>\n",
       "      <td>0</td>\n",
       "      <td>0</td>\n",
       "      <td>0</td>\n",
       "      <td>0</td>\n",
       "      <td>0</td>\n",
       "      <td>0</td>\n",
       "      <td>0</td>\n",
       "    </tr>\n",
       "    <tr>\n",
       "      <th>1</th>\n",
       "      <td>0</td>\n",
       "      <td>0</td>\n",
       "      <td>0</td>\n",
       "      <td>0</td>\n",
       "      <td>1</td>\n",
       "      <td>0</td>\n",
       "      <td>0</td>\n",
       "      <td>0</td>\n",
       "      <td>0</td>\n",
       "      <td>1</td>\n",
       "      <td>...</td>\n",
       "      <td>0</td>\n",
       "      <td>0</td>\n",
       "      <td>0</td>\n",
       "      <td>0</td>\n",
       "      <td>0</td>\n",
       "      <td>0</td>\n",
       "      <td>0</td>\n",
       "      <td>0</td>\n",
       "      <td>0</td>\n",
       "      <td>0</td>\n",
       "    </tr>\n",
       "    <tr>\n",
       "      <th>2</th>\n",
       "      <td>0</td>\n",
       "      <td>0</td>\n",
       "      <td>0</td>\n",
       "      <td>0</td>\n",
       "      <td>0</td>\n",
       "      <td>0</td>\n",
       "      <td>0</td>\n",
       "      <td>0</td>\n",
       "      <td>0</td>\n",
       "      <td>0</td>\n",
       "      <td>...</td>\n",
       "      <td>0</td>\n",
       "      <td>0</td>\n",
       "      <td>0</td>\n",
       "      <td>0</td>\n",
       "      <td>0</td>\n",
       "      <td>0</td>\n",
       "      <td>0</td>\n",
       "      <td>0</td>\n",
       "      <td>0</td>\n",
       "      <td>0</td>\n",
       "    </tr>\n",
       "    <tr>\n",
       "      <th>3</th>\n",
       "      <td>0</td>\n",
       "      <td>0</td>\n",
       "      <td>0</td>\n",
       "      <td>0</td>\n",
       "      <td>0</td>\n",
       "      <td>0</td>\n",
       "      <td>0</td>\n",
       "      <td>0</td>\n",
       "      <td>0</td>\n",
       "      <td>0</td>\n",
       "      <td>...</td>\n",
       "      <td>0</td>\n",
       "      <td>0</td>\n",
       "      <td>0</td>\n",
       "      <td>0</td>\n",
       "      <td>0</td>\n",
       "      <td>0</td>\n",
       "      <td>0</td>\n",
       "      <td>0</td>\n",
       "      <td>0</td>\n",
       "      <td>0</td>\n",
       "    </tr>\n",
       "    <tr>\n",
       "      <th>4</th>\n",
       "      <td>0</td>\n",
       "      <td>0</td>\n",
       "      <td>0</td>\n",
       "      <td>0</td>\n",
       "      <td>0</td>\n",
       "      <td>0</td>\n",
       "      <td>0</td>\n",
       "      <td>0</td>\n",
       "      <td>0</td>\n",
       "      <td>0</td>\n",
       "      <td>...</td>\n",
       "      <td>0</td>\n",
       "      <td>0</td>\n",
       "      <td>0</td>\n",
       "      <td>0</td>\n",
       "      <td>0</td>\n",
       "      <td>0</td>\n",
       "      <td>0</td>\n",
       "      <td>0</td>\n",
       "      <td>0</td>\n",
       "      <td>0</td>\n",
       "    </tr>\n",
       "  </tbody>\n",
       "</table>\n",
       "<p>5 rows × 10312 columns</p>\n",
       "</div>"
      ],
      "text/plain": [
       "   00  000  0005  000s  001  0017682  002  0025  003  00368 ...   zephyros  \\\n",
       "0   0    0     0     0    0        0    0     0    0      0 ...          0   \n",
       "1   0    0     0     0    1        0    0     0    0      1 ...          0   \n",
       "2   0    0     0     0    0        0    0     0    0      0 ...          0   \n",
       "3   0    0     0     0    0        0    0     0    0      0 ...          0   \n",
       "4   0    0     0     0    0        0    0     0    0      0 ...          0   \n",
       "\n",
       "   zero  zinc  zinia  zip  zone  zone4  zones  zoning  ýno  \n",
       "0     0     0      0    0     0      0      0       0    0  \n",
       "1     0     0      0    0     0      0      0       0    0  \n",
       "2     0     0      0    0     0      0      0       0    0  \n",
       "3     0     0      0    0     0      0      0       0    0  \n",
       "4     0     0      0    0     0      0      0       0    0  \n",
       "\n",
       "[5 rows x 10312 columns]"
      ]
     },
     "execution_count": 160,
     "metadata": {},
     "output_type": "execute_result"
    }
   ],
   "source": [
    "countdf.head()"
   ]
  },
  {
   "cell_type": "code",
   "execution_count": 164,
   "metadata": {
    "collapsed": true
   },
   "outputs": [],
   "source": [
    "import cPickle as pickle"
   ]
  },
  {
   "cell_type": "code",
   "execution_count": 167,
   "metadata": {
    "collapsed": false
   },
   "outputs": [],
   "source": [
    "### serialize it\n",
    "\n",
    "pickle.dump(text_tfidf, open('text_tfidf.pkl', 'wb')) \n",
    "pickle.dump(text_counts, open('text_counts.pkl', 'wb'))"
   ]
  },
  {
   "cell_type": "code",
   "execution_count": null,
   "metadata": {
    "collapsed": true
   },
   "outputs": [],
   "source": []
  },
  {
   "cell_type": "code",
   "execution_count": null,
   "metadata": {
    "collapsed": true
   },
   "outputs": [],
   "source": []
  },
  {
   "cell_type": "code",
   "execution_count": 299,
   "metadata": {
    "collapsed": false
   },
   "outputs": [],
   "source": [
    "w1 = ['united states securities and exchange commission washington']\n",
    "w2 = ['the moon is out today']\n",
    "w3 = ['text processing is difficult']\n",
    "w4 = ['tell me something you know about currency']"
   ]
  },
  {
   "cell_type": "code",
   "execution_count": 265,
   "metadata": {
    "collapsed": true
   },
   "outputs": [],
   "source": [
    "from scipy import spatial\n",
    "import numpy as np"
   ]
  },
  {
   "cell_type": "code",
   "execution_count": 302,
   "metadata": {
    "collapsed": false
   },
   "outputs": [
    {
     "name": "stdout",
     "output_type": "stream",
     "text": [
      "[[ 0.43072146]] 1955\n"
     ]
    }
   ],
   "source": [
    "### similarity by TFIDF w4 = ['tell me something you know about currencies']\n",
    "for i in  range(5000):\n",
    "    tmp = cosine_similarity(tf.transform(w4), countdf.iloc[i].values.reshape(1,-1));\n",
    "\n"
   ]
  },
  {
   "cell_type": "code",
   "execution_count": 312,
   "metadata": {
    "collapsed": false
   },
   "outputs": [],
   "source": [
    "results = [ (cosine_similarity(tf.transform(w4), countdf.iloc[i].values.reshape(1,-1)),i) for i in range(len(countdf)) ]\n",
    "    "
   ]
  },
  {
   "cell_type": "code",
   "execution_count": 322,
   "metadata": {
    "collapsed": false
   },
   "outputs": [],
   "source": [
    "shortlist = sorted(results, reverse=True)[:6]"
   ]
  },
  {
   "cell_type": "code",
   "execution_count": 323,
   "metadata": {
    "collapsed": false
   },
   "outputs": [
    {
     "name": "stdout",
     "output_type": "stream",
     "text": [
      "['tell me something you know about currency']\n",
      "foreign currency translation and transactions certain of the company’s subsidiaries use a local currency as their functional currency [ 0.43072146] \n",
      "\n",
      "currency translation the u.s [ 0.43072146] \n",
      "\n",
      "the functional currency is the currency of the primary economic environment in which the subsidiary operates [ 0.38524898] \n",
      "\n",
      "other foreign currency obligations [ 0.3516826] \n",
      "\n",
      "foreign currency translation [ 0.3516826] \n",
      "\n",
      "foreign currency translation [ 0.3516826] \n",
      "\n"
     ]
    }
   ],
   "source": [
    "print w4\n",
    "for i in shortlist:\n",
    "    print texts[i[1]], i[0][0], '\\n'"
   ]
  },
  {
   "cell_type": "code",
   "execution_count": null,
   "metadata": {
    "collapsed": true
   },
   "outputs": [],
   "source": []
  },
  {
   "cell_type": "code",
   "execution_count": null,
   "metadata": {
    "collapsed": false
   },
   "outputs": [],
   "source": []
  },
  {
   "cell_type": "code",
   "execution_count": null,
   "metadata": {
    "collapsed": true
   },
   "outputs": [],
   "source": []
  },
  {
   "cell_type": "code",
   "execution_count": 304,
   "metadata": {
    "collapsed": false
   },
   "outputs": [
    {
     "name": "stdout",
     "output_type": "stream",
     "text": [
      "[[ 0.40824829]] 1590\n",
      "[[ 0.40824829]] 1832\n",
      "[[ 0.5]] 1955\n",
      "[[ 0.40824829]] 1964\n",
      "[[ 0.4472136]] 6575\n",
      "[[ 0.40824829]] 7256\n",
      "[[ 0.40824829]] 7638\n",
      "[[ 0.40824829]] 7936\n"
     ]
    }
   ],
   "source": [
    "### similarity by COUNT w4 = ['tell me something you know about currencies']\n",
    "for i in  range(25000):\n",
    "    tmp = cosine_similarity(cf.transform(w4), countdf.iloc[i].values.reshape(1,-1));\n",
    "    if tmp > 0.4:\n",
    "        print tmp, i\n"
   ]
  },
  {
   "cell_type": "code",
   "execution_count": 324,
   "metadata": {
    "collapsed": true
   },
   "outputs": [],
   "source": [
    "count_results = [ (cosine_similarity(cf.transform(w4), countdf.iloc[i].values.reshape(1,-1)),i) for i in range(len(countdf)) ]\n",
    "    "
   ]
  },
  {
   "cell_type": "code",
   "execution_count": 325,
   "metadata": {
    "collapsed": true
   },
   "outputs": [],
   "source": [
    "shortlist = sorted(results, reverse=True)[:6]"
   ]
  },
  {
   "cell_type": "code",
   "execution_count": 326,
   "metadata": {
    "collapsed": false
   },
   "outputs": [
    {
     "name": "stdout",
     "output_type": "stream",
     "text": [
      "['tell me something you know about currency']\n",
      "foreign currency translation and transactions certain of the company’s subsidiaries use a local currency as their functional currency [ 0.43072146] \n",
      "\n",
      "currency translation the u.s [ 0.43072146] \n",
      "\n",
      "the functional currency is the currency of the primary economic environment in which the subsidiary operates [ 0.38524898] \n",
      "\n",
      "other foreign currency obligations [ 0.3516826] \n",
      "\n",
      "foreign currency translation [ 0.3516826] \n",
      "\n",
      "foreign currency translation [ 0.3516826] \n",
      "\n"
     ]
    }
   ],
   "source": [
    "print w4\n",
    "for i in shortlist:\n",
    "    print texts[i[1]], i[0][0], '\\n'"
   ]
  },
  {
   "cell_type": "code",
   "execution_count": null,
   "metadata": {
    "collapsed": true
   },
   "outputs": [],
   "source": []
  },
  {
   "cell_type": "code",
   "execution_count": null,
   "metadata": {
    "collapsed": true
   },
   "outputs": [],
   "source": []
  },
  {
   "cell_type": "code",
   "execution_count": null,
   "metadata": {
    "collapsed": true
   },
   "outputs": [],
   "source": []
  },
  {
   "cell_type": "code",
   "execution_count": null,
   "metadata": {
    "collapsed": true
   },
   "outputs": [],
   "source": []
  },
  {
   "cell_type": "code",
   "execution_count": null,
   "metadata": {
    "collapsed": true
   },
   "outputs": [],
   "source": []
  },
  {
   "cell_type": "code",
   "execution_count": null,
   "metadata": {
    "collapsed": true
   },
   "outputs": [],
   "source": []
  },
  {
   "cell_type": "code",
   "execution_count": null,
   "metadata": {
    "collapsed": true
   },
   "outputs": [],
   "source": []
  },
  {
   "cell_type": "code",
   "execution_count": 171,
   "metadata": {
    "collapsed": false
   },
   "outputs": [
    {
     "name": "stdout",
     "output_type": "stream",
     "text": [
      " \n",
      " UNITED STATES SECURITIES AND EXCHANGE COMMISSION\n",
      " Washington, D.C. 20549\n",
      " Form 10-K        \n",
      "  \n",
      " �\n"
     ]
    }
   ],
   "source": [
    "tmp = open('2014 annuals', 'rb')\n",
    "tmp = \" \".join(tmp)\n",
    "print tmp[:100]"
   ]
  },
  {
   "cell_type": "code",
   "execution_count": 172,
   "metadata": {
    "collapsed": true
   },
   "outputs": [],
   "source": [
    "cleansent = re.sub('[^A-Za-z]+', ' ', tmp.lower())"
   ]
  },
  {
   "cell_type": "code",
   "execution_count": 173,
   "metadata": {
    "collapsed": true
   },
   "outputs": [],
   "source": [
    "sentences = []\n",
    "for i in cleansent.split(\" \"):\n",
    "    if len(i)>3: sentences.append(i)\n",
    "sentences = \" \".join(sentences)"
   ]
  },
  {
   "cell_type": "code",
   "execution_count": 174,
   "metadata": {
    "collapsed": false
   },
   "outputs": [
    {
     "data": {
      "text/plain": [
       "'united states securities exchange commission washington form annual report pursuant section securities exchange fiscal year ended december transition report pursuant section securities exchange transition period from commission file number chevron corporation exact name registrant specified charter delaware bollinger canyon road ramon california state other jurisdiction incorporation organization '"
      ]
     },
     "execution_count": 174,
     "metadata": {},
     "output_type": "execute_result"
    }
   ],
   "source": [
    "sentences[:400]"
   ]
  },
  {
   "cell_type": "code",
   "execution_count": 175,
   "metadata": {
    "collapsed": true
   },
   "outputs": [],
   "source": [
    "with open(\"multiple_annual_reports_words_only.txt\", \"wb\") as text_file:\n",
    "    text_file.write(sentences)"
   ]
  },
  {
   "cell_type": "code",
   "execution_count": 176,
   "metadata": {
    "collapsed": true
   },
   "outputs": [],
   "source": [
    "import word2vec"
   ]
  },
  {
   "cell_type": "code",
   "execution_count": 182,
   "metadata": {
    "collapsed": false
   },
   "outputs": [
    {
     "name": "stdout",
     "output_type": "stream",
     "text": [
      "Starting training using file multiple_annual_reports_words_only.txt\n",
      "Vocab size: 10407\n",
      "Words in train file: 614098\n",
      "Alpha: 0.000785  Progress: 97.20%  Words/thread/sec: 4.61k  "
     ]
    }
   ],
   "source": [
    "word2vec.word2vec('multiple_annual_reports_words_only.txt', 'multiple_output.bin', size=10000, verbose=True, min_count=1)"
   ]
  },
  {
   "cell_type": "code",
   "execution_count": 183,
   "metadata": {
    "collapsed": true
   },
   "outputs": [],
   "source": [
    "model = word2vec.load('multiple_output.bin')"
   ]
  },
  {
   "cell_type": "code",
   "execution_count": 329,
   "metadata": {
    "collapsed": false
   },
   "outputs": [
    {
     "data": {
      "text/plain": [
       "array([u'that', u'with', u'million', u'december', u'from', u'other',\n",
       "       u'company', u'financial', u'production'], \n",
       "      dtype='<U78')"
      ]
     },
     "execution_count": 329,
     "metadata": {},
     "output_type": "execute_result"
    }
   ],
   "source": [
    "model.vocab[1:10]"
   ]
  },
  {
   "cell_type": "code",
   "execution_count": 350,
   "metadata": {
    "collapsed": false
   },
   "outputs": [
    {
     "data": {
      "text/plain": [
       "rec.array([(u'foreign', 0.9614704542756268), (u'translation', 0.9120724399585932),\n",
       " (u'derivatives', 0.8163633730858906), (u'selects', 0.7934954723683507),\n",
       " (u'comprehensively', 0.7778535557273641), (u'swaps', 0.7726069268608546),\n",
       " (u'unrealized', 0.7685007318655056), (u'gains', 0.7622602428036713),\n",
       " (u'denominated', 0.7614773929648497), (u'marketable', 0.7565221621681989)], \n",
       "          dtype=[(u'word', '<U78'), (u'metric', '<f8')])"
      ]
     },
     "execution_count": 350,
     "metadata": {},
     "output_type": "execute_result"
    }
   ],
   "source": [
    "indexes, metrics = model.cosine('currency')\n",
    "model.generate_response(indexes, metrics, clusters=True)[:10]"
   ]
  },
  {
   "cell_type": "code",
   "execution_count": 330,
   "metadata": {
    "collapsed": false
   },
   "outputs": [
    {
     "data": {
      "text/plain": [
       "[u'foreign',\n",
       " u'translation',\n",
       " u'derivatives',\n",
       " u'selects',\n",
       " u'comprehensively',\n",
       " u'swaps',\n",
       " u'unrealized',\n",
       " u'gains',\n",
       " u'denominated',\n",
       " u'marketable']"
      ]
     },
     "execution_count": 330,
     "metadata": {},
     "output_type": "execute_result"
    }
   ],
   "source": [
    "[i[0] for i in model.generate_response(indexes, metrics, clusters=True)[:10]]"
   ]
  },
  {
   "cell_type": "code",
   "execution_count": 354,
   "metadata": {
    "collapsed": false
   },
   "outputs": [],
   "source": [
    "listwords={}\n",
    "\n",
    "def toptensimilars(string):\n",
    "#     tmp = [[word for word in string.split(\" \")] if word not in stoplist]\n",
    "    tmp = string.lower().split(' ')# if word not in stoplist]\n",
    "    print tmp\n",
    "    for i in tmp:\n",
    "        try:\n",
    "            indexes, metrics = model.cosine(i)\n",
    "            listwords[i] = model.generate_response(indexes, metrics, clusters=True)[:10]\n",
    "        except:\n",
    "            pass\n",
    "        \n"
   ]
  },
  {
   "cell_type": "code",
   "execution_count": 355,
   "metadata": {
    "collapsed": false
   },
   "outputs": [
    {
     "name": "stdout",
     "output_type": "stream",
     "text": [
      "['the', 'currency', 'exchange', 'of', 'last', 'year', 'was', 'unfavorable', 'for', 'us']\n"
     ]
    }
   ],
   "source": [
    "toptensimilars(\"the currency exchange of last year was unfavorable for us\")"
   ]
  },
  {
   "cell_type": "code",
   "execution_count": 357,
   "metadata": {
    "collapsed": false
   },
   "outputs": [
    {
     "data": {
      "text/plain": [
       "['unfavorable', 'currency', 'year', 'last', 'exchange']"
      ]
     },
     "execution_count": 357,
     "metadata": {},
     "output_type": "execute_result"
    }
   ],
   "source": [
    "listwords.keys()"
   ]
  },
  {
   "cell_type": "code",
   "execution_count": null,
   "metadata": {
    "collapsed": true
   },
   "outputs": [],
   "source": []
  }
 ],
 "metadata": {
  "kernelspec": {
   "display_name": "Python 2",
   "language": "python",
   "name": "python2"
  },
  "language_info": {
   "codemirror_mode": {
    "name": "ipython",
    "version": 2
   },
   "file_extension": ".py",
   "mimetype": "text/x-python",
   "name": "python",
   "nbconvert_exporter": "python",
   "pygments_lexer": "ipython2",
   "version": "2.7.11"
  }
 },
 "nbformat": 4,
 "nbformat_minor": 0
}
