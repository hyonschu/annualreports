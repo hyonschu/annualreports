{
 "cells": [
  {
   "cell_type": "code",
   "execution_count": 22,
   "metadata": {
    "collapsed": true
   },
   "outputs": [],
   "source": [
    "%matplotlib inline \n",
    "import pandas as pd\n",
    "import numpy as np\n",
    "import re\n",
    "import pprint\n",
    "import gensim.corpora as corpora\n",
    "import gensim.models as models"
   ]
  },
  {
   "cell_type": "code",
   "execution_count": 3,
   "metadata": {
    "collapsed": false
   },
   "outputs": [
    {
     "name": "stdout",
     "output_type": "stream",
     "text": [
      "2014 annuals\r\n",
      "Chevron Annual Report Wordnet.ipynb\r\n",
      "Untitled.ipynb\r\n",
      "annualreports.mdl\r\n",
      "chevron2014.txt\r\n",
      "clusteroutput.model\r\n",
      "corpus.mm\r\n",
      "corpus.mm.index\r\n",
      "foster-wheeler-2013-summary-annual-report.pdf\r\n",
      "multiple oil and gas.ipynb\r\n",
      "multiple2014.txt\r\n",
      "multiple_output.bin\r\n",
      "output.bin\r\n",
      "pdf.pikl\r\n",
      "rawtut.ipynb\r\n",
      "sentences as docs.ipynb\r\n",
      "\u001b[31mtext8\u001b[m\u001b[m*\r\n"
     ]
    }
   ],
   "source": [
    "ls"
   ]
  },
  {
   "cell_type": "code",
   "execution_count": 4,
   "metadata": {
    "collapsed": false
   },
   "outputs": [
    {
     "name": "stdout",
     "output_type": "stream",
     "text": [
      " \r\n",
      "UNITED STATES SECURITIES AND EXCHANGE COMMISSION\r\n",
      "Washington, D.C. 20549\r\n",
      "Form 10-K        \r\n",
      " \r\n",
      "þ  ANNUAL REPORT PURSUANT TO SECTION 13 OR 15(d) OF THE\r\n",
      "SECURITIES EXCHANGE ACT OF 1934\r\n",
      "For the fiscal year ended December 31, 2014\r\n",
      "OR    \r\n",
      "o  TRANSITION REPORT PURSUANT TO SECTION 13 OR 15(d) OF THE\r\n"
     ]
    }
   ],
   "source": [
    "### chevron - added conocophilips, exxon mobil, \n",
    "### independent oil and gas: imperial oil, Abraxas, chesapeake\n",
    "### comstock resources, jones energy, US Energy Corp, ULTRA petroleum\n",
    "### all oil & gas refining: alon resource partners, atlas resource,\n",
    "### calumet specialty products partners, CVR Energy, eagle rock energy,\n",
    "### hess corp, philips 66 partners, valero energy\n",
    "!head 2014\\ annuals"
   ]
  },
  {
   "cell_type": "markdown",
   "metadata": {},
   "source": [
    "#### join all new breaks\n",
    "the assumption is that periods demark sentences, NOT return carriages (\\n)"
   ]
  },
  {
   "cell_type": "code",
   "execution_count": 5,
   "metadata": {
    "collapsed": false,
    "scrolled": false
   },
   "outputs": [
    {
     "name": "stdout",
     "output_type": "stream",
     "text": [
      " \n",
      " UNITED STATES SECURITIES AND EXCHANGE COMMISSION\n",
      " Washington, D.C. 20549\n",
      " Form 10-K        \n",
      "  \n",
      " �\n",
      "<type 'str'>\n"
     ]
    }
   ],
   "source": [
    "tmp = open('2014 annuals', 'rb')\n",
    "tmptmp = \" \".join(tmp)\n",
    "print tmptmp[:100]\n",
    "print type(tmptmp)"
   ]
  },
  {
   "cell_type": "code",
   "execution_count": 6,
   "metadata": {
    "collapsed": false
   },
   "outputs": [],
   "source": [
    "# deprecated\n",
    "# tmptmp = tmptmp.replace(\"\\n  \\n\", \". \").strip()\n",
    "# print tmptmp[:500]"
   ]
  },
  {
   "cell_type": "code",
   "execution_count": 7,
   "metadata": {
    "collapsed": false
   },
   "outputs": [],
   "source": [
    "# deprecated\n",
    "# tmptmp = re.sub( '\\s+', ' ', tmptmp ).strip()\n",
    "# print tmptmp[:500]"
   ]
  },
  {
   "cell_type": "code",
   "execution_count": 8,
   "metadata": {
    "collapsed": false
   },
   "outputs": [],
   "source": [
    "stoplist = set('for a of the and to in'.split())\n"
   ]
  },
  {
   "cell_type": "code",
   "execution_count": 9,
   "metadata": {
    "collapsed": false
   },
   "outputs": [],
   "source": [
    "tmptmp = tmptmp.replace(\"\\n  \\n\", \". \").strip()\n",
    "tmptmp = re.sub( '\\s+', ' ', tmptmp ).strip()\n",
    "tmptmp = tmptmp.replace(' .', '.')\n",
    "tmptmp = tmptmp.replace(' o ', \". \")\n",
    "# tmptmp[:1000].split('. ')"
   ]
  },
  {
   "cell_type": "code",
   "execution_count": 10,
   "metadata": {
    "collapsed": false
   },
   "outputs": [
    {
     "data": {
      "text/plain": [
       "['united states securities and exchange commission washington, d.c',\n",
       " '20549 form 10-k',\n",
       " '\\xc3\\xbe annual report pursuant to section 13 or 15(d) of the securities exchange act of 1934 for the fiscal year ended december 31, 2014 or',\n",
       " 'transition report pursuant to section 13 or 15(d) of the securities exchange act of 1934 for the transition period from to commission file number 001-00368 chevron corporation (exact name of registrant as specified in its charter) delaware',\n",
       " '94-0890210',\n",
       " '6001 bollinger canyon road, san ramon, california 94583-2324 (state or other jurisdiction of incorporation or organization)',\n",
       " '(i.r.s',\n",
       " 'employer identification no.)',\n",
       " '(address of principal executive offices) (zip code)',\n",
       " 'registrant\\xe2\\x80\\x99s telephone number, including area code (925) 842-1000',\n",
       " 'securities registered pursuant to section 12 (b) of the act:',\n",
       " 'title of each class',\n",
       " 'name of each exchange on which registered common stock, par value $.75 per share',\n",
       " 'new york stock exchange, inc',\n",
       " 'indicate by check mark if the registrant is a well-known seasoned issuer, as defined in rule 405 of the securities act',\n",
       " 'yes \\xc3\\xbe no',\n",
       " 'indicate by check mark if the registrant is not required to file reports pursuant to section 13 or section 15(d) of the act',\n",
       " 'yes',\n",
       " 'no \\xc3\\xbe indicate by check mark whether the registrant (1) has filed all reports required to be filed by section 13 or 15(d) of the securities exchange act of 1934 during the preceding 12 months (or for such shorter period that the registrant was required to file such reports), and (2) has been subject to such filing requirements for the past 90 days',\n",
       " 'yes \\xc3\\xbe no',\n",
       " 'indicate by check mark whether the registrant has submitted electronically and posted on its corporate web site, if any, every interactive data file required to be submitted and posted pursuant to rule 405 of regulation s-t (\\xc2\\xa7 232.405 of this chapter) during the preceding 12 months (or for such shorter period that the registrant was required to submit and post such files)',\n",
       " 'yes \\xc3\\xbe no',\n",
       " 'indicate by check mark if disclosure of delinquent filers pursuant to item 405 of regulation s-k (\\xc2\\xa7 229.405 of this chapter) is not contained herein, and will not be contained, to the best of registrant\\xe2\\x80\\x99s knowledge, in definitive proxy or information statements incorporated by reference in part iii of this form 10-k or any amendment to this form 10-k',\n",
       " '\\xc3\\xbe indicate by check mark whether the registrant is a large accelerated filer, an accelerated filer, a non-accelerated filer, or a smaller reporting company',\n",
       " 'see the definitions of \\xe2\\x80\\x9clarge accelerated filer,\\xe2\\x80\\x9d \\xe2\\x80\\x9caccelerated filer\\xe2\\x80\\x9d and \\xe2\\x80\\x9csmaller reporting company\\xe2\\x80\\x9d in rule 12b-2 of the exchange act.',\n",
       " 'large accelerated filer \\xc3\\xbe',\n",
       " 'accelerated filer o',\n",
       " 'non-accelerated filer',\n",
       " '(do not check if a smaller reporting company)',\n",
       " 'smaller reporting company o',\n",
       " 'indicate by check mark whether the registrant is a shell company (as defined in rule 12b-2 of the act)',\n",
       " 'yes',\n",
       " 'no \\xc3\\xbe aggregate market value of the voting and non-voting common equity held by non-affiliates computed by reference to the price at which the common equity was last sold, or the average bid and asked price of such common equity, as of the last business day of the registrant\\xe2\\x80\\x99s most recently completed second fiscal quarter \\xe2\\x80\\x94 $247,905,549,754 (as of june 30, 2014) number of shares of common stock outstanding as of february 9, 2015 \\xe2\\x80\\x94 1,880,180,422',\n",
       " 'documents incorporated by reference (to the extent indicated herein) notice of the 2015 annual meeting and 2015 proxy statement, to be filed pursuant to rule 14a-6(b) under the securities exchange act of 1934, in connection with the company\\xe2\\x80\\x99s 2015 annual meeting of stockholders (in part iii)',\n",
       " 'this page intentionally left blank table of contents item',\n",
       " 'page part i 1',\n",
       " 'business 3',\n",
       " 'general development of business 3',\n",
       " 'description of business and properties 4',\n",
       " 'upstream 4',\n",
       " 'downstream 19',\n",
       " 'other businesses 21 1a',\n",
       " 'risk factors 22 1b',\n",
       " 'unresolved staff comments 24 2',\n",
       " 'properties 24 3',\n",
       " 'legal proceedings 24 4',\n",
       " 'mine safety disclosures 25 part ii 5',\n",
       " 'market for the registrant\\xe2\\x80\\x99s common equity, related stockholder matters and issuer purchases of equity securities 25 6',\n",
       " 'selected financial data 25 7',\n",
       " 'management\\xe2\\x80\\x99s discussion and analysis of financial condition and results of operations 25 7a']"
      ]
     },
     "execution_count": 10,
     "metadata": {},
     "output_type": "execute_result"
    }
   ],
   "source": [
    "texts = [word for word in tmptmp.lower().split('. ') if word not in stoplist]\n",
    "\n",
    "texts[:50]"
   ]
  },
  {
   "cell_type": "code",
   "execution_count": 11,
   "metadata": {
    "collapsed": true
   },
   "outputs": [],
   "source": [
    "from collections import defaultdict\n",
    "frequency = defaultdict(int)\n",
    "for text in texts:\n",
    "    for token in text.split(\" \"):\n",
    "        frequency[token] += 1"
   ]
  },
  {
   "cell_type": "code",
   "execution_count": 12,
   "metadata": {
    "collapsed": false
   },
   "outputs": [],
   "source": [
    "# for i in texts:\n",
    "#     print [j for j in i.split(\" \") if frequency[j] > 1 and j not in stoplist]\n",
    "#     stop"
   ]
  },
  {
   "cell_type": "code",
   "execution_count": 13,
   "metadata": {
    "collapsed": false
   },
   "outputs": [],
   "source": [
    "texts2 = []\n",
    "for line in texts:\n",
    "    texts2.append([j for j in line.split(\" \") if frequency[j] > 1 and j not in stoplist])"
   ]
  },
  {
   "cell_type": "code",
   "execution_count": null,
   "metadata": {
    "collapsed": false,
    "scrolled": true
   },
   "outputs": [],
   "source": []
  },
  {
   "cell_type": "code",
   "execution_count": 14,
   "metadata": {
    "collapsed": false
   },
   "outputs": [
    {
     "name": "stdout",
     "output_type": "stream",
     "text": [
      "[['united',\n",
      "  'states',\n",
      "  'securities',\n",
      "  'exchange',\n",
      "  'commission',\n",
      "  'washington,',\n",
      "  'd.c'],\n",
      " ['20549', 'form', '10-k'],\n",
      " ['\\xc3\\xbe',\n",
      "  'annual',\n",
      "  'report',\n",
      "  'pursuant',\n",
      "  'section',\n",
      "  '13',\n",
      "  'or',\n",
      "  '15(d)',\n",
      "  'securities',\n",
      "  'exchange',\n",
      "  'act',\n",
      "  '1934',\n",
      "  'fiscal',\n",
      "  'year',\n",
      "  'ended',\n",
      "  'december',\n",
      "  '31,',\n",
      "  '2014',\n",
      "  'or'],\n",
      " ['transition',\n",
      "  'report',\n",
      "  'pursuant',\n",
      "  'section',\n",
      "  '13',\n",
      "  'or',\n",
      "  '15(d)',\n",
      "  'securities',\n",
      "  'exchange',\n",
      "  'act',\n",
      "  '1934',\n",
      "  'transition',\n",
      "  'period',\n",
      "  'from',\n",
      "  'commission',\n",
      "  'file',\n",
      "  'number',\n",
      "  'chevron',\n",
      "  'corporation',\n",
      "  '(exact',\n",
      "  'name',\n",
      "  'registrant',\n",
      "  'as',\n",
      "  'specified',\n",
      "  'its',\n",
      "  'charter)',\n",
      "  'delaware'],\n",
      " [],\n",
      " ['6001',\n",
      "  'bollinger',\n",
      "  'canyon',\n",
      "  'road,',\n",
      "  'san',\n",
      "  'ramon,',\n",
      "  'california',\n",
      "  '94583-2324',\n",
      "  '(state',\n",
      "  'or',\n",
      "  'other',\n",
      "  'jurisdiction',\n",
      "  'incorporation',\n",
      "  'or',\n",
      "  'organization)'],\n",
      " ['(i.r.s'],\n",
      " ['employer', 'identification', 'no.)'],\n",
      " ['(address', 'principal', 'executive', 'offices)', '(zip', 'code)'],\n",
      " ['registrant\\xe2\\x80\\x99s',\n",
      "  'telephone',\n",
      "  'number,',\n",
      "  'including',\n",
      "  'area',\n",
      "  'code']]\n"
     ]
    }
   ],
   "source": [
    "pprint.pprint(texts2[:10])"
   ]
  },
  {
   "cell_type": "code",
   "execution_count": 15,
   "metadata": {
    "collapsed": false
   },
   "outputs": [
    {
     "name": "stdout",
     "output_type": "stream",
     "text": [
      "Dictionary(23756 unique tokens: [u'1,808', u'1,809', u'\"greenhouse', u'considered,', u'1,803']...)\n"
     ]
    }
   ],
   "source": [
    "dictionary = corpora.Dictionary(texts2)\n",
    "dictionary.save('annualreports.mdl') # store the dictionary, for future reference\n",
    "print(dictionary)\n"
   ]
  },
  {
   "cell_type": "code",
   "execution_count": 16,
   "metadata": {
    "collapsed": false
   },
   "outputs": [
    {
     "name": "stdout",
     "output_type": "stream",
     "text": [
      "[(375, 1), (502, 1), (512, 1), (701, 1)]\n"
     ]
    }
   ],
   "source": [
    "new_doc = \"currency markets for oil are\"\n",
    "new_vec = dictionary.doc2bow(new_doc.lower().split())\n",
    "print(new_vec) # the word \"interaction\" does not appear in the dictionary and is ignored\n",
    "# returns [(token_id, token_count), ...] for incoming sentence"
   ]
  },
  {
   "cell_type": "code",
   "execution_count": 17,
   "metadata": {
    "collapsed": false
   },
   "outputs": [],
   "source": [
    "corpus = [dictionary.doc2bow(text) for text in texts2]\n",
    "# corpora.MmCorpus.serialize('/tmp/deerwester.mm', corpus) # store to disk, for later use"
   ]
  },
  {
   "cell_type": "code",
   "execution_count": 18,
   "metadata": {
    "collapsed": false
   },
   "outputs": [
    {
     "name": "stdout",
     "output_type": "stream",
     "text": [
      "[[(0, 1), (1, 1), (2, 1), (3, 1), (4, 1), (5, 1), (6, 1)], [(7, 1), (8, 1), (9, 1)], [(3, 1), (4, 1), (10, 1), (11, 1), (12, 1), (13, 1), (14, 1), (15, 1), (16, 1), (17, 1), (18, 1), (19, 1), (20, 1), (21, 1), (22, 1), (23, 1), (24, 2), (25, 1)], [(3, 1), (4, 1), (5, 1), (11, 1), (13, 1), (15, 1), (16, 1), (17, 1), (19, 1), (21, 1), (24, 1), (26, 2), (27, 1), (28, 1), (29, 1), (30, 1), (31, 1), (32, 1), (33, 1), (34, 1), (35, 1), (36, 1), (37, 1), (38, 1), (39, 1), (40, 1)], []]\n"
     ]
    }
   ],
   "source": [
    "print(corpus[:5])"
   ]
  },
  {
   "cell_type": "code",
   "execution_count": 19,
   "metadata": {
    "collapsed": true
   },
   "outputs": [],
   "source": [
    "import logging\n",
    "logging.basicConfig(format='%(asctime)s : %(levelname)s : %(message)s', level=logging.INFO)"
   ]
  },
  {
   "cell_type": "code",
   "execution_count": 20,
   "metadata": {
    "collapsed": false
   },
   "outputs": [],
   "source": [
    "from gensim import corpora\n",
    "## create a toy corpus of 2 documents, as a plain Python list\n",
    "# make one document empty, for the heck of it\n",
    "corpora.MmCorpus.serialize('corpus.mm', corpus)"
   ]
  },
  {
   "cell_type": "code",
   "execution_count": 23,
   "metadata": {
    "collapsed": false
   },
   "outputs": [],
   "source": [
    "tfidf = models.TfidfModel(corpus)"
   ]
  },
  {
   "cell_type": "code",
   "execution_count": 24,
   "metadata": {
    "collapsed": false
   },
   "outputs": [
    {
     "name": "stdout",
     "output_type": "stream",
     "text": [
      "TfidfModel(num_docs=76259, num_nnz=763697)\n"
     ]
    }
   ],
   "source": [
    "print tfidf"
   ]
  },
  {
   "cell_type": "code",
   "execution_count": 25,
   "metadata": {
    "collapsed": false
   },
   "outputs": [],
   "source": [
    "corpus_tfidf = tfidf[corpus]"
   ]
  },
  {
   "cell_type": "code",
   "execution_count": 26,
   "metadata": {
    "collapsed": false
   },
   "outputs": [
    {
     "name": "stdout",
     "output_type": "stream",
     "text": [
      "[(0, 0.30963556516992646), (1, 0.3027900247274372), (2, 0.5055098852604292), (3, 0.3066097953009965), (4, 0.30552519202221323), (5, 0.3729079611319987), (6, 0.48009188349845316)]\n",
      "[(7, 0.5415783824864412), (8, 0.43997267230801995), (9, 0.7163217874988236)]\n",
      "[(3, 0.22424505183390556), (4, 0.22345180607921197), (10, 0.2827344791118436), (11, 0.26012336206516457), (12, 0.13199840167827614), (13, 0.25330646628640713), (14, 0.2223638254462579), (15, 0.23981603930345458), (16, 0.3233341657460019), (17, 0.22696462560439337), (18, 0.1682829737109741), (19, 0.3168659291450756), (20, 0.16811800862602103), (21, 0.2094050202888492), (22, 0.13980664031755186), (23, 0.13606854509719263), (24, 0.24104006187605273), (25, 0.33253460828747355)]\n",
      "[(3, 0.152852201717907), (4, 0.15231150144774852), (5, 0.18590339829556135), (11, 0.1773079418464696), (13, 0.17266133974692205), (15, 0.16346585717285717), (16, 0.2203943352181761), (17, 0.15470594535752688), (19, 0.21598538974714632), (21, 0.14273678790308994), (24, 0.08215009396788062), (26, 0.48043498959307446), (27, 0.08908965898051112), (28, 0.1737066444156763), (29, 0.26099913211241366), (30, 0.14313389230628018), (31, 0.21557686502735052), (32, 0.1340734810983583), (33, 0.2627854294880555), (34, 0.11372461745015533), (35, 0.07788417230576186), (36, 0.1737066444156763), (37, 0.19233213748268987), (38, 0.1544179092536521), (39, 0.18974175753270167), (40, 0.21811217589517168)]\n",
      "[]\n"
     ]
    }
   ],
   "source": [
    "for doc in corpus_tfidf[:5]:\n",
    "    print(doc)"
   ]
  },
  {
   "cell_type": "code",
   "execution_count": 29,
   "metadata": {
    "collapsed": false
   },
   "outputs": [],
   "source": [
    "lsi = models.LsiModel(corpus_tfidf, id2word=dictionary, num_topics=10) # initialize an LSI transformation\n",
    "corpus_lsi = lsi[corpus_tfidf]"
   ]
  },
  {
   "cell_type": "code",
   "execution_count": 391,
   "metadata": {
    "collapsed": false
   },
   "outputs": [],
   "source": [
    "corpus_lda = lda[corpus_tfidf]"
   ]
  },
  {
   "cell_type": "code",
   "execution_count": 73,
   "metadata": {
    "collapsed": false
   },
   "outputs": [
    {
     "data": {
      "text/plain": [
       "'united states securities and exchange commission washington, d.c'"
      ]
     },
     "execution_count": 73,
     "metadata": {},
     "output_type": "execute_result"
    }
   ],
   "source": [
    "texts[0]"
   ]
  },
  {
   "cell_type": "code",
   "execution_count": 209,
   "metadata": {
    "collapsed": false
   },
   "outputs": [
    {
     "name": "stdout",
     "output_type": "stream",
     "text": [
      "[(0, 0.0013806645717757303), (1, 0.003311636880689855), (2, 0.0018444115693276137), (3, 0.010499419469914241), (4, 0.04921707649113706), (5, -4.7001444755940728e-05), (6, 0.065265724924815111), (7, 0.0073514823861610505), (8, 0.029429086366544871), (9, -0.02498805525289614)] # the reports are also available on the sec’s website at www.sec.gov \n",
      "\n",
      "[(0, 0.00096373598947126161), (1, 0.0024177950164484007), (2, 0.0014784515272263194), (3, 0.0070016659220266137), (4, 0.035910634311202429), (5, -6.664626859603361e-05), (6, 0.040631874821222352), (7, 0.0038317877318656624), (8, 0.014748196238343397), (9, 0.025778494495059825)] # ________________________________________________________ * incorporated in delaware in 1926 as standard oil company of california, the company adopted the name chevron corporation in 1984 and chevrontexaco corporation in 2001 \n",
      "\n",
      "[(0, 0.00031390023408125984), (1, 0.0011639291974074222), (2, 0.00049631892003702133), (3, 0.0032066483602865852), (4, 0.015701588449616957), (5, -0.00010480272474357863), (6, 0.020423584286496082), (7, 0.0024042767426885473), (8, 0.0079430298647163774), (9, -0.012540632024324113)] # in 2005, chevrontexaco corporation changed its name to chevron corporation \n",
      "\n",
      "[(0, 0.064825271205977072), (1, -0.0090084409701761056), (2, 0.0043133905538477301), (3, 0.019303248973869969), (4, 0.0915070431191531), (5, -0.00014756609250844802), (6, 0.12377675664923701), (7, 0.0091746975185462518), (8, 0.052153740446101333), (9, -0.039914682325860096)] # as used in this report, the term “chevron” and such terms as “the company,” “the corporation,” “our,” “we” and “us” may refer to chevron corporation, one or more of its consolidated subsidiaries, or all of them taken as a whole, but unless stated otherwise they do not include “affiliates” of chevron — i.e., those companies accounted for by the equity method (generally owned 50 percent or less) or investments accounted for by the cost method \n",
      "\n",
      "[(0, 0.0011773092491503339), (1, 0.0030399922767403663), (2, 0.002468380224536334), (3, 0.01415668931745988), (4, 0.069915117909040633), (5, -2.6763886051818126e-05), (6, 0.10136958197709957), (7, 0.0094097773748614017), (8, 0.045429132480521356), (9, -0.030134933248879423)] # all of these terms are used for convenience only and are not intended as a precise description of any of the separate companies, each of which manages its own affairs \n",
      "\n"
     ]
    }
   ],
   "source": [
    "for idx, doc in enumerate(corpus_lsi[100:105]):\n",
    "    print doc, '#', texts[idx+100], '\\n'"
   ]
  },
  {
   "cell_type": "code",
   "execution_count": 210,
   "metadata": {
    "collapsed": false
   },
   "outputs": [],
   "source": [
    "lsi = models.lsimodel.LsiModel(corpus_tfidf, id2word=dictionary, num_topics=400)"
   ]
  },
  {
   "cell_type": "code",
   "execution_count": 381,
   "metadata": {
    "collapsed": false
   },
   "outputs": [],
   "source": [
    "def similar_lsi(string, n_results):\n",
    "    print string, '\\n'\n",
    "    vec_bow = dictionary.doc2bow(string.lower().split())\n",
    "    vec_lsi = lsi[vec_bow] # convert the query to LSI space\n",
    "    index, score = zip(*sorted(vec_lsi, key=lambda tup: tup[1], reverse=True))\n",
    "    for i in range(n_results):\n",
    "        print score[i], texts[index[i]], '\\n',\n",
    "    print index[:20]"
   ]
  },
  {
   "cell_type": "code",
   "execution_count": 395,
   "metadata": {
    "collapsed": false,
    "scrolled": true
   },
   "outputs": [
    {
     "name": "stdout",
     "output_type": "stream",
     "text": [
      "currency money oil drilling shares \n",
      "\n",
      "0.406970094427 title of each class \n",
      "0.273466897159 consolidated companies 25,707 \n",
      "0.25674452865 at december 31. \n",
      "0.234358344696 6,481 \n",
      "0.22684215097 this page intentionally left blank table of contents item \n",
      "(11, 131, 116, 129, 34, 31, 229, 140, 6, 111, 41, 157, 51, 43, 135, 156, 145, 63, 130, 173)\n"
     ]
    }
   ],
   "source": [
    "similar_lsi('currency money oil drilling shares', 5)"
   ]
  },
  {
   "cell_type": "code",
   "execution_count": 248,
   "metadata": {
    "collapsed": false
   },
   "outputs": [
    {
     "data": {
      "text/plain": [
       "[(0,\n",
       "  u'0.976*\"\\u2014\" + 0.212*\"$\" + 0.029*\")\" + 0.012*\"total\" + 0.008*\"%\" + 0.007*\"net\" + 0.007*\"other\" + 0.007*\"income\" + 0.004*\"december\" + 0.004*\"assets\"'),\n",
       " (1,\n",
       "  u'0.954*\"$\" + -0.214*\"\\u2014\" + 0.184*\")\" + 0.059*\"-\" + 0.023*\"total\" + 0.020*\"income\" + 0.019*\"net\" + 0.016*\"december\" + 0.015*\"31,\" + 0.015*\"2014\"'),\n",
       " (2,\n",
       "  u'0.997*\"-\" + -0.065*\"$\" + 0.018*\")\" + 0.011*\"2014\" + 0.010*\"\\u2014\" + 0.008*\"2013\" + 0.007*\"december\" + 0.007*\"1\" + 0.007*\"31,\" + 0.006*\"gas\"'),\n",
       " (3,\n",
       "  u'0.948*\")\" + -0.195*\"$\" + 0.080*\"2014\" + 0.078*\"december\" + 0.077*\"31,\" + 0.072*\"2013\" + 0.052*\"ended\" + 0.045*\"year\" + 0.044*\"net\" + 0.039*\"our\"'),\n",
       " (4,\n",
       "  u'0.382*\"2014\" + 0.343*\"2013\" + 0.341*\"december\" + 0.341*\"31,\" + -0.245*\")\" + 0.237*\"ended\" + 0.197*\"year\" + 0.152*\"our\" + 0.131*\"million\" + 0.124*\"as\"'),\n",
       " (5,\n",
       "  u'-1.000*\"\\u2014.\" + 0.007*\"$\" + -0.002*\")\" + -0.001*\"\\u2014\" + -0.000*\"2014\" + -0.000*\"2013\" + -0.000*\"december\" + -0.000*\"31,\" + 0.000*\"total\" + -0.000*\"ended\"'),\n",
       " (6,\n",
       "  u'-0.437*\"2014\" + -0.402*\"2013\" + 0.252*\"our\" + 0.172*\"or\" + 0.147*\"we\" + 0.145*\"gas\" + 0.140*\"are\" + 0.136*\"oil\" + 0.134*\"on\" + 0.114*\"that\"'),\n",
       " (7,\n",
       "  u'0.751*\"2014\" + -0.635*\"2013\" + -0.082*\"ended\" + -0.072*\"december\" + -0.068*\"31,\" + -0.067*\"year\" + -0.061*\"2012\" + -0.026*\"million\" + -0.025*\"2014,\" + 0.022*\"our\"'),\n",
       " (8,\n",
       "  u'0.548*\"2013\" + -0.402*\"december\" + -0.393*\"31,\" + -0.339*\"ended\" + 0.293*\"2014\" + -0.277*\"year\" + 0.096*\"our\" + -0.089*\"years\" + 0.071*\"or\" + 0.067*\"gas\"'),\n",
       " (9,\n",
       "  u'0.938*\"total\" + 0.090*\"2012\" + -0.090*\"our\" + 0.085*\"assets\" + 0.082*\"net\" + 0.079*\"income\" + -0.062*\"financial\" + 0.061*\"liabilities\" + -0.059*\"or\" + 0.058*\"equity\"')]"
      ]
     },
     "execution_count": 248,
     "metadata": {},
     "output_type": "execute_result"
    }
   ],
   "source": [
    "lsi.print_topics(10)"
   ]
  },
  {
   "cell_type": "code",
   "execution_count": 398,
   "metadata": {
    "collapsed": false
   },
   "outputs": [
    {
     "name": "stdout",
     "output_type": "stream",
     "text": [
      "['information', 'required', 'by', 'item', '201(d)', 'regulation', 's-k', 'contained', 'under', 'heading', '\\xe2\\x80\\x9cequity', 'compensation', 'plan', 'information\\xe2\\x80\\x9d', '2015', 'proxy', 'statement', 'is', 'incorporated', 'by', 'reference', 'into', 'this', 'annual', 'report', 'on', 'form', '10-k'] \n",
      "\n",
      "['item', '13'] \n",
      "\n",
      "['certain', 'relationships', 'related', 'transactions,', 'director', 'independence', 'information', 'required', 'by', 'item', '404', 'regulation', 's-k', 'contained', 'under', 'heading', '\\xe2\\x80\\x9ccorporate', 'governance', '\\xe2\\x80\\x94', 'related', 'person', 'transactions\\xe2\\x80\\x9d', '2015', 'proxy', 'statement', 'is', 'incorporated', 'by', 'reference', 'into', 'this', 'annual', 'report', 'on', 'form', '10-k'] \n",
      "\n",
      "['information', 'required', 'by', 'item', '407(a)', 'regulation', 's-k', 'contained', 'under', 'heading', '\\xe2\\x80\\x9ccorporate', 'governance', '\\xe2\\x80\\x94', 'director', 'independence\\xe2\\x80\\x9d', '2015', 'proxy', 'statement', 'is', 'incorporated', 'by', 'reference', 'into', 'this', 'annual', 'report', 'on', 'form', '10-k'] \n",
      "\n",
      "['item', '14'] \n",
      "\n",
      "['principal', 'accounting', 'fees', 'services', 'information', 'required', 'by', 'item', 'schedule', '14a', 'contained', 'under', 'heading', '\\xe2\\x80\\x9cboard', 'proposal', 'appointment', 'independent', 'registered', 'public', 'accounting', 'firm\\xe2\\x80\\x9d', '2015', 'proxy', 'statement', 'is', 'incorporated', 'by', 'reference', 'into', 'this', 'annual', 'report', 'on', 'form', '10-k'] \n",
      "\n",
      "['27', 'part', 'iv', 'item', '15'] \n",
      "\n",
      "['exhibits,', 'financial', 'statement', 'schedules', '(a)', 'following', 'documents', 'are', 'filed', 'as', 'part', 'this', 'report:', '(1)', 'financial', 'statements:'] \n",
      "\n",
      "['page(s)', 'report', 'independent', 'registered', 'public', 'accounting', 'firm', '\\xe2\\x80\\x94', 'pricewaterhousecoopers', 'llp', 'fs--22', 'consolidated', 'statement', 'income', 'three', 'years', 'ended', 'december', '31,', '2014', 'fs--23', 'consolidated', 'statement', 'comprehensive', 'income', 'three', 'years', 'ended', 'december', '31,', '2014', 'fs--24', 'consolidated', 'balance', 'sheet', 'at', 'december', '31,', '2014', '2013', 'fs--25', 'consolidated', 'statement', 'cash', 'flows', 'three', 'years', 'ended', 'december', '31,', '2014', 'fs--26', 'consolidated', 'statement', 'equity', 'three', 'years', 'ended', 'december', '31,', '2014', 'fs--27', 'notes', 'consolidated', 'financial', 'statements', 'fs-28', 'fs-60'] \n",
      "\n",
      "['(2)', 'financial', 'statement', 'schedules:', 'included', 'below', 'is', 'schedule', 'ii', '-', 'valuation', 'qualifying', 'accounts'] \n",
      "\n"
     ]
    }
   ],
   "source": [
    "for i in texts2[1231:1241]:\n",
    "    print i,'\\n'"
   ]
  },
  {
   "cell_type": "code",
   "execution_count": null,
   "metadata": {
    "collapsed": true
   },
   "outputs": [],
   "source": []
  },
  {
   "cell_type": "code",
   "execution_count": null,
   "metadata": {
    "collapsed": true
   },
   "outputs": [],
   "source": []
  },
  {
   "cell_type": "code",
   "execution_count": null,
   "metadata": {
    "collapsed": true
   },
   "outputs": [],
   "source": []
  },
  {
   "cell_type": "code",
   "execution_count": null,
   "metadata": {
    "collapsed": true
   },
   "outputs": [],
   "source": []
  },
  {
   "cell_type": "code",
   "execution_count": null,
   "metadata": {
    "collapsed": true
   },
   "outputs": [],
   "source": []
  },
  {
   "cell_type": "code",
   "execution_count": 239,
   "metadata": {
    "collapsed": false
   },
   "outputs": [],
   "source": [
    "lda = models.ldamodel.LdaModel(corpus_tfidf, id2word=dictionary, num_topics=400)"
   ]
  },
  {
   "cell_type": "code",
   "execution_count": 279,
   "metadata": {
    "collapsed": true
   },
   "outputs": [],
   "source": [
    "def similar_lda(string, n_results):\n",
    "    vec_bow = dictionary.doc2bow(string.lower().split())\n",
    "    vec_lda = lda[vec_bow] # convert the query to LSI space\n",
    "#     index, score = zip(*sorted(vec_lda, key=lambda tup: tup[1], reverse=True))\n",
    "#     for i in range(n_results):\n",
    "#         print score[i], texts[index[i]], '\\n'"
   ]
  },
  {
   "cell_type": "code",
   "execution_count": 297,
   "metadata": {
    "collapsed": false
   },
   "outputs": [
    {
     "data": {
      "text/plain": [
       "[(75, 0.24742541081898647),\n",
       " (157, 0.12011891251241605),\n",
       " (173, 0.11138888888888814),\n",
       " (206, 0.15389856624005735),\n",
       " (210, 0.11138888888888816),\n",
       " (231, 0.035223777095203017),\n",
       " (376, 0.11138888888888814)]"
      ]
     },
     "execution_count": 297,
     "metadata": {},
     "output_type": "execute_result"
    }
   ],
   "source": [
    "vec_lda"
   ]
  },
  {
   "cell_type": "code",
   "execution_count": 303,
   "metadata": {
    "collapsed": true
   },
   "outputs": [],
   "source": [
    "lda = models.ldamodel.LdaModel(corpus_tfidf, id2word=dictionary, num_topics=400)"
   ]
  },
  {
   "cell_type": "code",
   "execution_count": 328,
   "metadata": {
    "collapsed": false
   },
   "outputs": [],
   "source": []
  },
  {
   "cell_type": "code",
   "execution_count": 329,
   "metadata": {
    "collapsed": true
   },
   "outputs": [],
   "source": [
    "import gensim.similarities"
   ]
  },
  {
   "cell_type": "code",
   "execution_count": 392,
   "metadata": {
    "collapsed": false
   },
   "outputs": [
    {
     "name": "stderr",
     "output_type": "stream",
     "text": [
      "WARNING:gensim.similarities.docsim:scanning corpus to determine the number of features (consider setting `num_features` explicitly)\n"
     ]
    }
   ],
   "source": [
    "index = gensim.similarities.MatrixSimilarity(lda[corpus_lda])"
   ]
  },
  {
   "cell_type": "code",
   "execution_count": 385,
   "metadata": {
    "collapsed": false
   },
   "outputs": [],
   "source": [
    "doc = 'the scores are weird'\n",
    "vec_bow = dictionary.doc2bow(doc.lower().split())\n",
    "vec_lda = lda[vec_bow] # convert the query to LSI space\n",
    "# index, score = zip(*sorted(vec_lda, key=lambda tup: tup[1], reverse=True))\n",
    "# for i in range(n_results):\n",
    "#     print score[i], texts[index[i]], '\\n',\n",
    "# print index[:20]"
   ]
  },
  {
   "cell_type": "code",
   "execution_count": 386,
   "metadata": {
    "collapsed": false
   },
   "outputs": [],
   "source": [
    "ldasim = index[vec_lda]"
   ]
  },
  {
   "cell_type": "code",
   "execution_count": 387,
   "metadata": {
    "collapsed": false
   },
   "outputs": [],
   "source": [
    "ldaidx, ldascore = zip(*sorted(enumerate(ldasim), key=lambda item: item[1], reverse=True))"
   ]
  },
  {
   "cell_type": "code",
   "execution_count": 388,
   "metadata": {
    "collapsed": false
   },
   "outputs": [
    {
     "name": "stdout",
     "output_type": "stream",
     "text": [
      "1.0 ['united', 'states', 'securities', 'exchange', 'commission', 'washington,', 'd.c']\n",
      "1.0 ['20549', 'form', '10-k']\n",
      "1.0 ['\\xc3\\xbe', 'annual', 'report', 'pursuant', 'section', '13', 'or', '15(d)', 'securities', 'exchange', 'act', '1934', 'fiscal', 'year', 'ended', 'december', '31,', '2014', 'or']\n",
      "1.0 ['transition', 'report', 'pursuant', 'section', '13', 'or', '15(d)', 'securities', 'exchange', 'act', '1934', 'transition', 'period', 'from', 'commission', 'file', 'number', 'chevron', 'corporation', '(exact', 'name', 'registrant', 'as', 'specified', 'its', 'charter)', 'delaware']\n",
      "1.0 []\n",
      "1.0 ['6001', 'bollinger', 'canyon', 'road,', 'san', 'ramon,', 'california', '94583-2324', '(state', 'or', 'other', 'jurisdiction', 'incorporation', 'or', 'organization)']\n",
      "1.0 ['(i.r.s']\n",
      "1.0 ['employer', 'identification', 'no.)']\n",
      "0.944221 ['(address', 'principal', 'executive', 'offices)', '(zip', 'code)']\n",
      "0.910789 ['registrant\\xe2\\x80\\x99s', 'telephone', 'number,', 'including', 'area', 'code']\n"
     ]
    }
   ],
   "source": [
    "for i in range(10):\n",
    "    print ldascore[i], texts2[i]"
   ]
  },
  {
   "cell_type": "code",
   "execution_count": 376,
   "metadata": {
    "collapsed": false
   },
   "outputs": [
    {
     "data": {
      "text/plain": [
       "[(115,\n",
       "  u'0.296*none + 0.126*staff + 0.107*unresolved + 0.092*comments + 0.000*evidence, + 0.000*2.58 + 0.000*$/mcfe + 0.000*8.1 + 0.000*conversions + 0.000*sizes'),\n",
       " (91,\n",
       "  u'0.114*form + 0.100*reference + 0.083*report + 0.073*by + 0.053*incorporated + 0.053*on + 0.041*10-k + 0.031*this + 0.030*mississippi + 0.029*proxy'),\n",
       " (5,\n",
       "  u'0.369*change + 0.248*2017 + 0.076*climate + 0.024*pages + 0.016*reached + 0.016*through + 0.014*east, + 0.011*build + 0.009*middle + 0.007*reduction,'),\n",
       " (59,\n",
       "  u'0.155*127 + 0.055*by, + 0.000*\\u2014 + 0.000*corporation + 0.000*moody\\u2019s + 0.000*poor\\u2019s + 0.000*investors + 0.000*of, + 0.000*guaranteed + 0.000*rated'),\n",
       " (233,\n",
       "  u'0.235*impact + 0.145*performance + 0.070*field + 0.062*life + 0.039*apply + 0.034*least + 0.029*an + 0.027*utilize + 0.026*operating + 0.022*pressure'),\n",
       " (347,\n",
       "  u'0.330*amortization + 0.103*reduced + 0.090*depletion + 0.090*depreciation, + 0.050*approximate + 0.048*llp + 0.019*31, + 0.018*million + 0.013*as + 0.012*by'),\n",
       " (375,\n",
       "  u'0.463*(in + 0.130*systems + 0.054*physical + 0.038*as + 0.037*design + 0.032*assess + 0.031*engineering + 0.030*other + 0.013*utilizes + 0.011*risk'),\n",
       " (192,\n",
       "  u'0.000*offtake + 0.000*long-term + 0.000*agreements + 0.000*arrangements + 0.000*include + 0.000*supply + 0.000*purchase + 0.000*these + 0.000*or + 0.000*1.48'),\n",
       " (270,\n",
       "  u\"0.278*page + 0.120*company's + 0.102*shown + 0.031*on + 0.027*below: + 0.024*categories + 0.020*are + 0.014*chevron, + 0.004*maturing + 0.003*operations\"),\n",
       " (304,\n",
       "  u'0.258*63 + 0.184*regulated + 0.028*1,529 + 0.000*production + 0.000*achieved + 0.000*synthetic + 0.000*natural + 0.000*was + 0.000*during + 0.000*arising')]"
      ]
     },
     "execution_count": 376,
     "metadata": {},
     "output_type": "execute_result"
    }
   ],
   "source": [
    "lda.print_topics()"
   ]
  },
  {
   "cell_type": "code",
   "execution_count": 293,
   "metadata": {
    "collapsed": false,
    "scrolled": false
   },
   "outputs": [
    {
     "ename": "TypeError",
     "evalue": "tuple indices must be integers, not list",
     "output_type": "error",
     "traceback": [
      "\u001b[0;31m---------------------------------------------------------------------------\u001b[0m",
      "\u001b[0;31mTypeError\u001b[0m                                 Traceback (most recent call last)",
      "\u001b[0;32m<ipython-input-293-a724502c4322>\u001b[0m in \u001b[0;36m<module>\u001b[0;34m()\u001b[0m\n\u001b[0;32m----> 1\u001b[0;31m \u001b[0msims\u001b[0m \u001b[0;34m=\u001b[0m \u001b[0mindex\u001b[0m\u001b[0;34m[\u001b[0m\u001b[0mvec_lda\u001b[0m\u001b[0;34m]\u001b[0m \u001b[0;31m# perform a similarity query against the corpus\u001b[0m\u001b[0;34m\u001b[0m\u001b[0m\n\u001b[0m\u001b[1;32m      2\u001b[0m \u001b[0;32mprint\u001b[0m\u001b[0;34m(\u001b[0m\u001b[0mlist\u001b[0m\u001b[0;34m(\u001b[0m\u001b[0menumerate\u001b[0m\u001b[0;34m(\u001b[0m\u001b[0msims\u001b[0m\u001b[0;34m)\u001b[0m\u001b[0;34m)\u001b[0m\u001b[0;34m)\u001b[0m \u001b[0;31m# print (document_number, document_similarity) 2-tuples\u001b[0m\u001b[0;34m\u001b[0m\u001b[0m\n\u001b[1;32m      3\u001b[0m \u001b[0;31m# [(0, 0.99809301), (1, 0.93748635), (2, 0.99844527), (3, 0.9865886), (4, 0.90755945),\u001b[0m\u001b[0;34m\u001b[0m\u001b[0;34m\u001b[0m\u001b[0m\n\u001b[1;32m      4\u001b[0m \u001b[0;31m# (5, -0.12416792), (6, -0.1063926), (7, -0.098794639), (8, 0.05004178)]\u001b[0m\u001b[0;34m\u001b[0m\u001b[0;34m\u001b[0m\u001b[0m\n",
      "\u001b[0;31mTypeError\u001b[0m: tuple indices must be integers, not list"
     ]
    }
   ],
   "source": [
    "sims = index[vec_lda] # perform a similarity query against the corpus\n",
    "print(list(enumerate(sims))) # print (document_number, document_similarity) 2-tuples\n",
    "# [(0, 0.99809301), (1, 0.93748635), (2, 0.99844527), (3, 0.9865886), (4, 0.90755945),\n",
    "# (5, -0.12416792), (6, -0.1063926), (7, -0.098794639), (8, 0.05004178)]"
   ]
  },
  {
   "cell_type": "code",
   "execution_count": null,
   "metadata": {
    "collapsed": true
   },
   "outputs": [],
   "source": []
  },
  {
   "cell_type": "code",
   "execution_count": null,
   "metadata": {
    "collapsed": true
   },
   "outputs": [],
   "source": []
  },
  {
   "cell_type": "code",
   "execution_count": 8,
   "metadata": {
    "collapsed": false
   },
   "outputs": [],
   "source": [
    "# cleansent = re.sub('[^A-Za-z]+', ' ', tmptmp)"
   ]
  },
  {
   "cell_type": "code",
   "execution_count": 9,
   "metadata": {
    "collapsed": false
   },
   "outputs": [],
   "source": [
    "# cleansent = cleansent.lower()"
   ]
  },
  {
   "cell_type": "code",
   "execution_count": null,
   "metadata": {
    "collapsed": true
   },
   "outputs": [],
   "source": []
  },
  {
   "cell_type": "code",
   "execution_count": null,
   "metadata": {
    "collapsed": true
   },
   "outputs": [],
   "source": [
    "doc = \"Human computer interaction\"\n",
    "\n",
    "\n",
    "\n",
    "\n",
    "\n",
    "\n"
   ]
  },
  {
   "cell_type": "code",
   "execution_count": null,
   "metadata": {
    "collapsed": true
   },
   "outputs": [],
   "source": []
  },
  {
   "cell_type": "code",
   "execution_count": null,
   "metadata": {
    "collapsed": true
   },
   "outputs": [],
   "source": []
  },
  {
   "cell_type": "code",
   "execution_count": null,
   "metadata": {
    "collapsed": true
   },
   "outputs": [],
   "source": []
  },
  {
   "cell_type": "code",
   "execution_count": null,
   "metadata": {
    "collapsed": true
   },
   "outputs": [],
   "source": []
  },
  {
   "cell_type": "code",
   "execution_count": null,
   "metadata": {
    "collapsed": true
   },
   "outputs": [],
   "source": []
  },
  {
   "cell_type": "code",
   "execution_count": 9,
   "metadata": {
    "collapsed": false
   },
   "outputs": [],
   "source": [
    "sentences = []\n",
    "for i in cleansent.split(\" \"):\n",
    "    if len(i)>3: sentences.append(i)\n",
    "sentences = \" \".join(sentences)"
   ]
  },
  {
   "cell_type": "code",
   "execution_count": 10,
   "metadata": {
    "collapsed": false
   },
   "outputs": [
    {
     "data": {
      "text/plain": [
       "'united states securities exchange commission washington form annual report pursuant section securities exchange fiscal year ended december transition report pursuant section securities exchange transition period from commission file number chevron corporation exact name registrant specified charter delaware bollinger canyon road ramon california state other jurisdiction incorporation organization '"
      ]
     },
     "execution_count": 10,
     "metadata": {},
     "output_type": "execute_result"
    }
   ],
   "source": [
    "sentences[:400]"
   ]
  },
  {
   "cell_type": "code",
   "execution_count": null,
   "metadata": {
    "collapsed": true
   },
   "outputs": [],
   "source": []
  },
  {
   "cell_type": "code",
   "execution_count": null,
   "metadata": {
    "collapsed": true
   },
   "outputs": [],
   "source": []
  },
  {
   "cell_type": "code",
   "execution_count": null,
   "metadata": {
    "collapsed": true
   },
   "outputs": [],
   "source": []
  },
  {
   "cell_type": "code",
   "execution_count": null,
   "metadata": {
    "collapsed": true
   },
   "outputs": [],
   "source": []
  },
  {
   "cell_type": "code",
   "execution_count": null,
   "metadata": {
    "collapsed": true
   },
   "outputs": [],
   "source": []
  },
  {
   "cell_type": "code",
   "execution_count": null,
   "metadata": {
    "collapsed": true
   },
   "outputs": [],
   "source": []
  },
  {
   "cell_type": "code",
   "execution_count": null,
   "metadata": {
    "collapsed": true
   },
   "outputs": [],
   "source": []
  },
  {
   "cell_type": "code",
   "execution_count": null,
   "metadata": {
    "collapsed": true
   },
   "outputs": [],
   "source": []
  },
  {
   "cell_type": "code",
   "execution_count": null,
   "metadata": {
    "collapsed": true
   },
   "outputs": [],
   "source": []
  },
  {
   "cell_type": "code",
   "execution_count": null,
   "metadata": {
    "collapsed": true
   },
   "outputs": [],
   "source": []
  },
  {
   "cell_type": "code",
   "execution_count": null,
   "metadata": {
    "collapsed": true
   },
   "outputs": [],
   "source": []
  },
  {
   "cell_type": "code",
   "execution_count": null,
   "metadata": {
    "collapsed": true
   },
   "outputs": [],
   "source": []
  },
  {
   "cell_type": "code",
   "execution_count": null,
   "metadata": {
    "collapsed": true
   },
   "outputs": [],
   "source": []
  },
  {
   "cell_type": "code",
   "execution_count": null,
   "metadata": {
    "collapsed": true
   },
   "outputs": [],
   "source": []
  },
  {
   "cell_type": "code",
   "execution_count": null,
   "metadata": {
    "collapsed": true
   },
   "outputs": [],
   "source": []
  },
  {
   "cell_type": "code",
   "execution_count": null,
   "metadata": {
    "collapsed": true
   },
   "outputs": [],
   "source": []
  },
  {
   "cell_type": "code",
   "execution_count": 11,
   "metadata": {
    "collapsed": true
   },
   "outputs": [],
   "source": [
    "with open(\"multiple2014.txt\", \"wb\") as text_file:\n",
    "    text_file.write(sentences)"
   ]
  },
  {
   "cell_type": "code",
   "execution_count": 12,
   "metadata": {
    "collapsed": false
   },
   "outputs": [
    {
     "name": "stdout",
     "output_type": "stream",
     "text": [
      "united states securities exchange commission washington form annual report pursuant section securities exchange fiscal year ended december transition report pursuant section securities exchange transition period from commission file number chevron corporation exact name registrant specified charter "
     ]
    }
   ],
   "source": [
    "!head -c300 multiple2014.txt"
   ]
  },
  {
   "cell_type": "code",
   "execution_count": 16,
   "metadata": {
    "collapsed": true
   },
   "outputs": [],
   "source": [
    "import word2vec"
   ]
  },
  {
   "cell_type": "code",
   "execution_count": 41,
   "metadata": {
    "collapsed": false
   },
   "outputs": [
    {
     "name": "stdout",
     "output_type": "stream",
     "text": [
      "Starting training using file multiple2014.txt\n",
      "Vocab size: 10407\n",
      "Words in train file: 614098\n",
      "Alpha: 0.000785  Progress: 97.20%  Words/thread/sec: 4.87k  "
     ]
    }
   ],
   "source": [
    "word2vec.word2vec('multiple2014.txt', 'multiple_output.bin', size=10000, verbose=True, min_count=1)"
   ]
  },
  {
   "cell_type": "code",
   "execution_count": 42,
   "metadata": {
    "collapsed": false
   },
   "outputs": [],
   "source": [
    "model = word2vec.load('multiple_output.bin')"
   ]
  },
  {
   "cell_type": "code",
   "execution_count": 43,
   "metadata": {
    "collapsed": true
   },
   "outputs": [],
   "source": [
    "import pprint"
   ]
  },
  {
   "cell_type": "code",
   "execution_count": 44,
   "metadata": {
    "collapsed": false
   },
   "outputs": [
    {
     "data": {
      "text/plain": [
       "array([u'</s>', u'that', u'with', u'million', u'december', u'from',\n",
       "       u'other', u'company', u'financial', u'production', u'cash',\n",
       "       u'operations', u'which', u'natural', u'year', u'have', u'income',\n",
       "       u'costs', u'these', u'total', u'assets', u'ended', u'under',\n",
       "       u'interest', u'value', u'reserves', u'operating', u'business',\n",
       "       u'crude', u'prices', u'future', u'consolidated', u'this', u'will',\n",
       "       u'statements', u'common', u'such', u'units', u'partnership',\n",
       "       u'related', u'could', u'were', u'based', u'capital', u'table',\n",
       "       u'price', u'sales', u'including', u'energy', u'wells', u'notes',\n",
       "       u'during', u'stock', u'drilling', u'activities', u'properties',\n",
       "       u'certain', u'proved', u'years', u'credit', u'market', u'general',\n",
       "       u'results', u'loss', u'products', u'period', u'management', u'term',\n",
       "       u'development', u'approximately', u'well', u'also', u'cost',\n",
       "       u'agreement', u'fair', u'result', u'equity', u'increase',\n",
       "       u'corporation', u'contents', u'liabilities', u'refinery', u'amount',\n",
       "       u'debt', u'over', u'current', u'information', u'expenses',\n",
       "       u'changes', u'expense', u'facility', u'primarily', u'than',\n",
       "       u'additional', u'into', u'asset', u'partner', u'average',\n",
       "       u'derivative', u'been'], \n",
       "      dtype='<U78')"
      ]
     },
     "execution_count": 44,
     "metadata": {},
     "output_type": "execute_result"
    }
   ],
   "source": [
    "model.vocab[:100]"
   ]
  },
  {
   "cell_type": "code",
   "execution_count": 45,
   "metadata": {
    "collapsed": false
   },
   "outputs": [
    {
     "data": {
      "text/plain": [
       "(10407, 10000)"
      ]
     },
     "execution_count": 45,
     "metadata": {},
     "output_type": "execute_result"
    }
   ],
   "source": [
    "model.vectors.shape"
   ]
  },
  {
   "cell_type": "code",
   "execution_count": null,
   "metadata": {
    "collapsed": true
   },
   "outputs": [],
   "source": []
  },
  {
   "cell_type": "code",
   "execution_count": 47,
   "metadata": {
    "collapsed": false,
    "scrolled": true
   },
   "outputs": [
    {
     "data": {
      "text/plain": [
       "rec.array([(u'foreign', 0.9569433804752123), (u'translation', 0.9142850744878005),\n",
       " (u'derivatives', 0.8292544164541273), (u'selects', 0.7984495616861635),\n",
       " (u'reclassifies', 0.7839928287947682), (u'swaps', 0.7807568120132391),\n",
       " (u'unrealized', 0.772210304160807), (u'gains', 0.7692493403238411),\n",
       " (u'translated', 0.7609531334093015), (u'denominated', 0.7597829030433463)], \n",
       "          dtype=[(u'word', '<U78'), (u'metric', '<f8')])"
      ]
     },
     "execution_count": 47,
     "metadata": {},
     "output_type": "execute_result"
    }
   ],
   "source": [
    "indexes, metrics = model.cosine('currency')\n",
    "model.generate_response(indexes, metrics, clusters=True)"
   ]
  },
  {
   "cell_type": "code",
   "execution_count": 51,
   "metadata": {
    "collapsed": false
   },
   "outputs": [
    {
     "data": {
      "text/plain": [
       "rec.array([(u'tightens', 0.8446703502914263), (u'specialties', 0.8268779608433172),\n",
       " (u'edgewood', 0.7958180872455813), (u'exporting', 0.7822678247941249),\n",
       " (u'refiner', 0.7784209664413801), (u'gavilon', 0.7710303193068555),\n",
       " (u'petrochemical', 0.7708759116590465), (u'society', 0.7659609211095834),\n",
       " (u'wholesale', 0.7646051410376627), (u'polyolester', 0.7643957581323834)], \n",
       "          dtype=[(u'word', '<U78'), (u'metric', '<f8')])"
      ]
     },
     "execution_count": 51,
     "metadata": {},
     "output_type": "execute_result"
    }
   ],
   "source": [
    "indexes, metrics = model.cosine('petroleum')\n",
    "model.generate_response(indexes, metrics, clusters=False)"
   ]
  },
  {
   "cell_type": "code",
   "execution_count": 25,
   "metadata": {
    "collapsed": false
   },
   "outputs": [],
   "source": [
    "def simwords(stub):\n",
    "#     global indexes\n",
    "    indexes, metrics = model.cosine(stub)\n",
    "    return model.generate_response(indexes, metrics)"
   ]
  },
  {
   "cell_type": "code",
   "execution_count": 26,
   "metadata": {
    "collapsed": false
   },
   "outputs": [
    {
     "data": {
      "text/plain": [
       "rec.array([(u'curves', 0.8247690123793273), (u'differentials', 0.7990578233007499),\n",
       " (u'pricing', 0.7961579855043138), (u'volatility', 0.7874875003611536),\n",
       " (u'decline', 0.7723233155824794), (u'prevailing', 0.7695081567241682),\n",
       " (u'price', 0.7687901914838995), (u'correlation', 0.7678445060097845),\n",
       " (u'declines', 0.7594943396894593), (u'movements', 0.7594299258921632)], \n",
       "          dtype=[(u'word', '<U78'), (u'metric', '<f8')])"
      ]
     },
     "execution_count": 26,
     "metadata": {},
     "output_type": "execute_result"
    }
   ],
   "source": [
    "simwords('prices')"
   ]
  },
  {
   "cell_type": "code",
   "execution_count": 27,
   "metadata": {
    "collapsed": false
   },
   "outputs": [
    {
     "data": {
      "text/plain": [
       "rec.array([(u'chair', 0.9693560487788974), (u'sutherland', 0.965843710764715),\n",
       " (u'wascom', 0.9656610493027291), (u'craig', 0.9540980343648446),\n",
       " (u'appointment', 0.9539335993662164), (u'mcgrath', 0.9534643136445273),\n",
       " (u'secretary', 0.9475133264971107), (u'served', 0.9473083337322769),\n",
       " (u'treasurer', 0.9460238403668957), (u'jonathan', 0.9448189644511172)], \n",
       "          dtype=[(u'word', '<U78'), (u'metric', '<f8')])"
      ]
     },
     "execution_count": 27,
     "metadata": {},
     "output_type": "execute_result"
    }
   ],
   "source": [
    "simwords('chairman')"
   ]
  },
  {
   "cell_type": "code",
   "execution_count": null,
   "metadata": {
    "collapsed": true
   },
   "outputs": [],
   "source": []
  },
  {
   "cell_type": "code",
   "execution_count": null,
   "metadata": {
    "collapsed": true
   },
   "outputs": [],
   "source": []
  },
  {
   "cell_type": "code",
   "execution_count": null,
   "metadata": {
    "collapsed": true
   },
   "outputs": [],
   "source": []
  },
  {
   "cell_type": "code",
   "execution_count": null,
   "metadata": {
    "collapsed": true
   },
   "outputs": [],
   "source": []
  },
  {
   "cell_type": "code",
   "execution_count": null,
   "metadata": {
    "collapsed": true
   },
   "outputs": [],
   "source": []
  },
  {
   "cell_type": "code",
   "execution_count": null,
   "metadata": {
    "collapsed": true
   },
   "outputs": [],
   "source": []
  },
  {
   "cell_type": "code",
   "execution_count": null,
   "metadata": {
    "collapsed": true
   },
   "outputs": [],
   "source": []
  },
  {
   "cell_type": "code",
   "execution_count": null,
   "metadata": {
    "collapsed": true
   },
   "outputs": [],
   "source": []
  },
  {
   "cell_type": "code",
   "execution_count": null,
   "metadata": {
    "collapsed": true
   },
   "outputs": [],
   "source": []
  },
  {
   "cell_type": "code",
   "execution_count": 107,
   "metadata": {
    "collapsed": false
   },
   "outputs": [],
   "source": [
    "tmptmp = re.sub( '\\s+', ' ', tmptmp ).strip()\n",
    "tmptmp = tmptmp.replace('\\n \\n ', '. ')\n",
    "tmptmp = tmptmp.replace(\"\\n\", \" \", )\n",
    "tmptmp = tmptmp.replace(\" o \", \". \")"
   ]
  },
  {
   "cell_type": "code",
   "execution_count": 138,
   "metadata": {
    "collapsed": false
   },
   "outputs": [
    {
     "data": {
      "text/plain": [
       "u'10-K 1 cvx-123114x10kdoc.htm 10-K UNITED STATES SECURITIES AND EXCHANGE COMMISSION Washington, D.C. 20549 Form 10-K \\xfe ANNUAL REPORT PURSUANT TO SECTION 13 OR 15(d) OF THE SECURITIES EXCHANGE ACT OF 1934 For the fiscal year ended December 31, 2014 OR. TRANSITION REPORT PURSUANT TO SECTION 13 OR 15(d) OF THE SECURITIES EXCHANGE ACT OF 1934 For the transition period from to Commission File Number 001-00368 Chevron Corporation (Exact name of registrant as specified in its charter) Delaware 94-0890210 6001 Bollinger Canyon Road, San Ramon, California 94583-2324 (State or other jurisdiction of incorporation or organization) (I.R.S. Employer Identification No.) (Address of principal executive offices) (Zip Code) Registrant\\u2019s telephone number, including area code (925) 842-1000 Securities registered pursuant to Section 12 (b) of the Act: Title of Each Class Name of Each Exchange on Which Registered Common stock, par value $.75 per share New York Stock Exchange, Inc. Indicate by check mark i'"
      ]
     },
     "execution_count": 138,
     "metadata": {},
     "output_type": "execute_result"
    }
   ],
   "source": [
    "tmptmp[:1000].decode(\"UTF8\")"
   ]
  },
  {
   "cell_type": "code",
   "execution_count": 166,
   "metadata": {
    "collapsed": false
   },
   "outputs": [],
   "source": [
    "sentences = tmptmp.split('. ')\n",
    "# for i in tmptmp:\n",
    "#     try: [sentences.append(j) for j in i.split('. ')]\n",
    "#     except: sentences.append(i)"
   ]
  },
  {
   "cell_type": "code",
   "execution_count": 167,
   "metadata": {
    "collapsed": false
   },
   "outputs": [
    {
     "data": {
      "text/plain": [
       "['10-K 1 cvx-123114x10kdoc.htm 10-K UNITED STATES SECURITIES AND EXCHANGE COMMISSION Washington, D.C',\n",
       " '20549 Form 10-K \\xc3\\xbe ANNUAL REPORT PURSUANT TO SECTION 13 OR 15(d) OF THE SECURITIES EXCHANGE ACT OF 1934 For the fiscal year ended December 31, 2014 OR',\n",
       " 'TRANSITION REPORT PURSUANT TO SECTION 13 OR 15(d) OF THE SECURITIES EXCHANGE ACT OF 1934 For the transition period from to Commission File Number 001-00368 Chevron Corporation (Exact name of registrant as specified in its charter) Delaware 94-0890210 6001 Bollinger Canyon Road, San Ramon, California 94583-2324 (State or other jurisdiction of incorporation or organization) (I.R.S',\n",
       " 'Employer Identification No.) (Address of principal executive offices) (Zip Code) Registrant\\xe2\\x80\\x99s telephone number, including area code (925) 842-1000 Securities registered pursuant to Section 12 (b) of the Act: Title of Each Class Name of Each Exchange on Which Registered Common stock, par value $.75 per share New York Stock Exchange, Inc',\n",
       " 'Indicate by check mark if the registrant is a well-known seasoned issuer, as defined in Rule 405 of the Securities Act']"
      ]
     },
     "execution_count": 167,
     "metadata": {},
     "output_type": "execute_result"
    }
   ],
   "source": [
    "sentences[:5]"
   ]
  },
  {
   "cell_type": "code",
   "execution_count": 168,
   "metadata": {
    "collapsed": false
   },
   "outputs": [],
   "source": [
    "# for idx, i in enumerate(sentences): \n",
    "#     if len(i) > 500: print idx, i"
   ]
  },
  {
   "cell_type": "code",
   "execution_count": 179,
   "metadata": {
    "collapsed": false,
    "scrolled": true
   },
   "outputs": [],
   "source": [
    "counts = pd.Series([len(i) for i in sentences])#.plot(kind='kde', xlim=(0,500))#, bins=1000)"
   ]
  },
  {
   "cell_type": "code",
   "execution_count": 182,
   "metadata": {
    "collapsed": false
   },
   "outputs": [
    {
     "data": {
      "text/plain": [
       "count    2238.000000\n",
       "mean      184.252904\n",
       "std       235.246067\n",
       "min         3.000000\n",
       "25%        85.000000\n",
       "50%       135.000000\n",
       "75%       210.000000\n",
       "max      3199.000000\n",
       "dtype: float64"
      ]
     },
     "execution_count": 182,
     "metadata": {},
     "output_type": "execute_result"
    }
   ],
   "source": [
    "counts.describe()"
   ]
  },
  {
   "cell_type": "code",
   "execution_count": 186,
   "metadata": {
    "collapsed": true
   },
   "outputs": [],
   "source": [
    "morethanten =[]\n",
    "for i in sentences:\n",
    "    if len(i)>10: morethanten.append(i)"
   ]
  },
  {
   "cell_type": "code",
   "execution_count": 187,
   "metadata": {
    "collapsed": true
   },
   "outputs": [],
   "source": [
    "#### print out the number of sentences in the corpus"
   ]
  },
  {
   "cell_type": "code",
   "execution_count": 188,
   "metadata": {
    "collapsed": false
   },
   "outputs": [
    {
     "data": {
      "text/plain": [
       "2151"
      ]
     },
     "execution_count": 188,
     "metadata": {},
     "output_type": "execute_result"
    }
   ],
   "source": [
    "len(morethanten)"
   ]
  },
  {
   "cell_type": "code",
   "execution_count": 195,
   "metadata": {
    "collapsed": false
   },
   "outputs": [
    {
     "name": "stdout",
     "output_type": "stream",
     "text": [
      "['10-K 1 cvx-123114x10kdoc.htm 10-K UNITED STATES SECURITIES AND EXCHANGE COMMISSION Washington, D.C',\n",
      " '20549 Form 10-K \\xc3\\xbe ANNUAL REPORT PURSUANT TO SECTION 13 OR 15(d) OF THE SECURITIES EXCHANGE ACT OF 1934 For the fiscal year ended December 31, 2014 OR',\n",
      " 'TRANSITION REPORT PURSUANT TO SECTION 13 OR 15(d) OF THE SECURITIES EXCHANGE ACT OF 1934 For the transition period from to Commission File Number 001-00368 Chevron Corporation (Exact name of registrant as specified in its charter) Delaware 94-0890210 6001 Bollinger Canyon Road, San Ramon, California 94583-2324 (State or other jurisdiction of incorporation or organization) (I.R.S',\n",
      " 'Employer Identification No.) (Address of principal executive offices) (Zip Code) Registrant\\xe2\\x80\\x99s telephone number, including area code (925) 842-1000 Securities registered pursuant to Section 12 (b) of the Act: Title of Each Class Name of Each Exchange on Which Registered Common stock, par value $.75 per share New York Stock Exchange, Inc',\n",
      " 'Indicate by check mark if the registrant is a well-known seasoned issuer, as defined in Rule 405 of the Securities Act']\n"
     ]
    }
   ],
   "source": [
    "from pprint import pprint\n",
    "pprint(sentences[:5])"
   ]
  },
  {
   "cell_type": "code",
   "execution_count": 254,
   "metadata": {
    "collapsed": false
   },
   "outputs": [
    {
     "ename": "ValueError",
     "evalue": "invalid literal for int() with base 10: '10-K'",
     "output_type": "error",
     "traceback": [
      "\u001b[0;31m---------------------------------------------------------------------------\u001b[0m",
      "\u001b[0;31mValueError\u001b[0m                                Traceback (most recent call last)",
      "\u001b[0;32m<ipython-input-254-805b96b862c8>\u001b[0m in \u001b[0;36m<module>\u001b[0;34m()\u001b[0m\n\u001b[1;32m      1\u001b[0m \u001b[0;32mimport\u001b[0m \u001b[0mgensim\u001b[0m\u001b[0;34m\u001b[0m\u001b[0m\n\u001b[1;32m      2\u001b[0m \u001b[0mw\u001b[0m \u001b[0;34m=\u001b[0m \u001b[0mgensim\u001b[0m\u001b[0;34m.\u001b[0m\u001b[0mmodels\u001b[0m\u001b[0;34m.\u001b[0m\u001b[0mWord2Vec\u001b[0m\u001b[0;34m(\u001b[0m\u001b[0;34m)\u001b[0m\u001b[0;34m\u001b[0m\u001b[0m\n\u001b[0;32m----> 3\u001b[0;31m \u001b[0mw\u001b[0m\u001b[0;34m.\u001b[0m\u001b[0mload_word2vec_format\u001b[0m\u001b[0;34m(\u001b[0m\u001b[0;34m'output.model'\u001b[0m\u001b[0;34m,\u001b[0m \u001b[0mbinary\u001b[0m\u001b[0;34m=\u001b[0m\u001b[0mFalse\u001b[0m\u001b[0;34m)\u001b[0m\u001b[0;34m\u001b[0m\u001b[0m\n\u001b[0m\u001b[1;32m      4\u001b[0m \u001b[0;32mprint\u001b[0m \u001b[0mw\u001b[0m\u001b[0;34m[\u001b[0m\u001b[0;34m\"queen\"\u001b[0m\u001b[0;34m]\u001b[0m\u001b[0;34m\u001b[0m\u001b[0m\n",
      "\u001b[0;32m/usr/local/lib/python2.7/site-packages/gensim/models/word2vec.pyc\u001b[0m in \u001b[0;36mload_word2vec_format\u001b[0;34m(cls, fname, fvocab, binary, encoding, unicode_errors)\u001b[0m\n\u001b[1;32m   1052\u001b[0m         \u001b[0;32mwith\u001b[0m \u001b[0mutils\u001b[0m\u001b[0;34m.\u001b[0m\u001b[0msmart_open\u001b[0m\u001b[0;34m(\u001b[0m\u001b[0mfname\u001b[0m\u001b[0;34m)\u001b[0m \u001b[0;32mas\u001b[0m \u001b[0mfin\u001b[0m\u001b[0;34m:\u001b[0m\u001b[0;34m\u001b[0m\u001b[0m\n\u001b[1;32m   1053\u001b[0m             \u001b[0mheader\u001b[0m \u001b[0;34m=\u001b[0m \u001b[0mutils\u001b[0m\u001b[0;34m.\u001b[0m\u001b[0mto_unicode\u001b[0m\u001b[0;34m(\u001b[0m\u001b[0mfin\u001b[0m\u001b[0;34m.\u001b[0m\u001b[0mreadline\u001b[0m\u001b[0;34m(\u001b[0m\u001b[0;34m)\u001b[0m\u001b[0;34m,\u001b[0m \u001b[0mencoding\u001b[0m\u001b[0;34m=\u001b[0m\u001b[0mencoding\u001b[0m\u001b[0;34m)\u001b[0m\u001b[0;34m\u001b[0m\u001b[0m\n\u001b[0;32m-> 1054\u001b[0;31m             \u001b[0mvocab_size\u001b[0m\u001b[0;34m,\u001b[0m \u001b[0mvector_size\u001b[0m \u001b[0;34m=\u001b[0m \u001b[0mmap\u001b[0m\u001b[0;34m(\u001b[0m\u001b[0mint\u001b[0m\u001b[0;34m,\u001b[0m \u001b[0mheader\u001b[0m\u001b[0;34m.\u001b[0m\u001b[0msplit\u001b[0m\u001b[0;34m(\u001b[0m\u001b[0;34m)\u001b[0m\u001b[0;34m)\u001b[0m  \u001b[0;31m# throws for invalid file format\u001b[0m\u001b[0;34m\u001b[0m\u001b[0m\n\u001b[0m\u001b[1;32m   1055\u001b[0m             \u001b[0mresult\u001b[0m \u001b[0;34m=\u001b[0m \u001b[0mcls\u001b[0m\u001b[0;34m(\u001b[0m\u001b[0msize\u001b[0m\u001b[0;34m=\u001b[0m\u001b[0mvector_size\u001b[0m\u001b[0;34m)\u001b[0m\u001b[0;34m\u001b[0m\u001b[0m\n\u001b[1;32m   1056\u001b[0m             \u001b[0mresult\u001b[0m\u001b[0;34m.\u001b[0m\u001b[0msyn0\u001b[0m \u001b[0;34m=\u001b[0m \u001b[0mzeros\u001b[0m\u001b[0;34m(\u001b[0m\u001b[0;34m(\u001b[0m\u001b[0mvocab_size\u001b[0m\u001b[0;34m,\u001b[0m \u001b[0mvector_size\u001b[0m\u001b[0;34m)\u001b[0m\u001b[0;34m,\u001b[0m \u001b[0mdtype\u001b[0m\u001b[0;34m=\u001b[0m\u001b[0mREAL\u001b[0m\u001b[0;34m)\u001b[0m\u001b[0;34m\u001b[0m\u001b[0m\n",
      "\u001b[0;31mValueError\u001b[0m: invalid literal for int() with base 10: '10-K'"
     ]
    }
   ],
   "source": []
  },
  {
   "cell_type": "code",
   "execution_count": 240,
   "metadata": {
    "collapsed": false
   },
   "outputs": [
    {
     "name": "stdout",
     "output_type": "stream",
     "text": [
      "Starting training using file chevron 10K 2014\n",
      "\n",
      "Vocab size (unigrams + bigrams): 24917\n",
      "Words in train file: 64979\n"
     ]
    }
   ],
   "source": []
  },
  {
   "cell_type": "code",
   "execution_count": 242,
   "metadata": {
    "collapsed": false
   },
   "outputs": [],
   "source": []
  },
  {
   "cell_type": "code",
   "execution_count": 245,
   "metadata": {
    "collapsed": true
   },
   "outputs": [],
   "source": []
  },
  {
   "cell_type": "code",
   "execution_count": 246,
   "metadata": {
    "collapsed": false
   },
   "outputs": [
    {
     "ename": "Exception",
     "evalue": "Could not identify kind",
     "output_type": "error",
     "traceback": [
      "\u001b[0;31m---------------------------------------------------------------------------\u001b[0m",
      "\u001b[0;31mException\u001b[0m                                 Traceback (most recent call last)",
      "\u001b[0;32m<ipython-input-246-9f221c5ac5e0>\u001b[0m in \u001b[0;36m<module>\u001b[0;34m()\u001b[0m\n\u001b[0;32m----> 1\u001b[0;31m \u001b[0mmodel\u001b[0m \u001b[0;34m=\u001b[0m \u001b[0mword2vec\u001b[0m\u001b[0;34m.\u001b[0m\u001b[0mload\u001b[0m\u001b[0;34m(\u001b[0m\u001b[0;34m'clusteroutput.model'\u001b[0m\u001b[0;34m)\u001b[0m\u001b[0;34m\u001b[0m\u001b[0m\n\u001b[0m",
      "\u001b[0;32m/usr/local/lib/python2.7/site-packages/word2vec/io.pyc\u001b[0m in \u001b[0;36mload\u001b[0;34m(fname, kind, *args, **kwargs)\u001b[0m\n\u001b[1;32m     14\u001b[0m             \u001b[0mkind\u001b[0m \u001b[0;34m=\u001b[0m \u001b[0;34m'txt'\u001b[0m\u001b[0;34m\u001b[0m\u001b[0m\n\u001b[1;32m     15\u001b[0m         \u001b[0;32melse\u001b[0m\u001b[0;34m:\u001b[0m\u001b[0;34m\u001b[0m\u001b[0m\n\u001b[0;32m---> 16\u001b[0;31m             \u001b[0;32mraise\u001b[0m \u001b[0mException\u001b[0m\u001b[0;34m(\u001b[0m\u001b[0;34m'Could not identify kind'\u001b[0m\u001b[0;34m)\u001b[0m\u001b[0;34m\u001b[0m\u001b[0m\n\u001b[0m\u001b[1;32m     17\u001b[0m     \u001b[0;32mif\u001b[0m \u001b[0mkind\u001b[0m \u001b[0;34m==\u001b[0m \u001b[0;34m'bin'\u001b[0m\u001b[0;34m:\u001b[0m\u001b[0;34m\u001b[0m\u001b[0m\n\u001b[1;32m     18\u001b[0m         \u001b[0;32mreturn\u001b[0m \u001b[0mword2vec\u001b[0m\u001b[0;34m.\u001b[0m\u001b[0mWordVectors\u001b[0m\u001b[0;34m.\u001b[0m\u001b[0mfrom_binary\u001b[0m\u001b[0;34m(\u001b[0m\u001b[0mfname\u001b[0m\u001b[0;34m,\u001b[0m \u001b[0;34m*\u001b[0m\u001b[0margs\u001b[0m\u001b[0;34m,\u001b[0m \u001b[0;34m**\u001b[0m\u001b[0mkwargs\u001b[0m\u001b[0;34m)\u001b[0m\u001b[0;34m\u001b[0m\u001b[0m\n",
      "\u001b[0;31mException\u001b[0m: Could not identify kind"
     ]
    }
   ],
   "source": []
  },
  {
   "cell_type": "code",
   "execution_count": 205,
   "metadata": {
    "collapsed": false
   },
   "outputs": [
    {
     "ename": "TypeError",
     "evalue": "accuracy() takes at least 2 arguments (1 given)",
     "output_type": "error",
     "traceback": [
      "\u001b[0;31m---------------------------------------------------------------------------\u001b[0m",
      "\u001b[0;31mTypeError\u001b[0m                                 Traceback (most recent call last)",
      "\u001b[0;32m<ipython-input-205-65ab5fc54a3d>\u001b[0m in \u001b[0;36m<module>\u001b[0;34m()\u001b[0m\n\u001b[0;32m----> 1\u001b[0;31m \u001b[0mmodel\u001b[0m\u001b[0;34m.\u001b[0m\u001b[0maccuracy\u001b[0m\u001b[0;34m(\u001b[0m\u001b[0;34m)\u001b[0m\u001b[0;34m\u001b[0m\u001b[0m\n\u001b[0m",
      "\u001b[0;31mTypeError\u001b[0m: accuracy() takes at least 2 arguments (1 given)"
     ]
    }
   ],
   "source": []
  },
  {
   "cell_type": "code",
   "execution_count": null,
   "metadata": {
    "collapsed": true
   },
   "outputs": [],
   "source": []
  }
 ],
 "metadata": {
  "kernelspec": {
   "display_name": "Python 2",
   "language": "python",
   "name": "python2"
  },
  "language_info": {
   "codemirror_mode": {
    "name": "ipython",
    "version": 2
   },
   "file_extension": ".py",
   "mimetype": "text/x-python",
   "name": "python",
   "nbconvert_exporter": "python",
   "pygments_lexer": "ipython2",
   "version": "2.7.11"
  }
 },
 "nbformat": 4,
 "nbformat_minor": 0
}
