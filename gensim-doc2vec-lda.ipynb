{
 "cells": [
  {
   "cell_type": "code",
   "execution_count": 158,
   "metadata": {
    "collapsed": true
   },
   "outputs": [],
   "source": [
    "# import dependencies\n",
    "%matplotlib inline \n",
    "import pandas as pd\n",
    "import numpy as np\n",
    "import re\n",
    "import pprint\n",
    "import gensim.corpora as corpora\n",
    "import gensim.models as models\n",
    "import matplotlib.pyplot as plt"
   ]
  },
  {
   "cell_type": "code",
   "execution_count": 159,
   "metadata": {
    "collapsed": false
   },
   "outputs": [
    {
     "name": "stdout",
     "output_type": "stream",
     "text": [
      " \n",
      " UNITED STATES SECURITIES AND EXCHANGE COMMISSION\n",
      " Washington, D.C. 20549\n",
      " Form 10-K        \n",
      "  \n",
      " �\n",
      "<type 'str'>\n"
     ]
    }
   ],
   "source": [
    "# open text file (~15 annual reports, HTML from annualreports.com)\n",
    "tmp = open('2014 annuals', 'rb')\n",
    "tmptmp = \" \".join(tmp)\n",
    "print tmptmp[:100]\n",
    "print type(tmptmp)"
   ]
  },
  {
   "cell_type": "code",
   "execution_count": 160,
   "metadata": {
    "collapsed": true
   },
   "outputs": [],
   "source": [
    "# create a stoplist for words to be removed \n",
    "stoplist = set('for a of the and to in'.split())"
   ]
  },
  {
   "cell_type": "code",
   "execution_count": 161,
   "metadata": {
    "collapsed": false
   },
   "outputs": [],
   "source": [
    "# very straightforward text replacement\n",
    "tmptmp = tmptmp.replace(\"\\n  \\n\", \". \").strip()\n",
    "tmptmp = re.sub( '\\s+', ' ', tmptmp ).strip()\n",
    "tmptmp = tmptmp.replace(' .', '.')\n",
    "tmptmp = tmptmp.replace(' o ', \". \")\n",
    "# tmptmp[:1000].split('. ')"
   ]
  },
  {
   "cell_type": "code",
   "execution_count": 251,
   "metadata": {
    "collapsed": false
   },
   "outputs": [
    {
     "data": {
      "text/plain": [
       "['united states securities and exchange commission washington, d.c',\n",
       " '20549 form 10-k',\n",
       " '\\xc3\\xbe annual report pursuant to section 13 or 15(d) of the securities exchange act of 1934 for the fiscal year ended december 31, 2014 or',\n",
       " 'transition report pursuant to section 13 or 15(d) of the securities exchange act of 1934 for the transition period from to commission file number 001-00368 chevron corporation (exact name of registrant as specified in its charter) delaware',\n",
       " '94-0890210',\n",
       " '6001 bollinger canyon road, san ramon, california 94583-2324 (state or other jurisdiction of incorporation or organization)',\n",
       " '(i.r.s',\n",
       " 'employer identification no.)',\n",
       " '(address of principal executive offices) (zip code)',\n",
       " 'registrant\\xe2\\x80\\x99s telephone number, including area code (925) 842-1000',\n",
       " 'securities registered pursuant to section 12 (b) of the act:',\n",
       " 'title of each class',\n",
       " 'name of each exchange on which registered common stock, par value $.75 per share',\n",
       " 'new york stock exchange, inc',\n",
       " 'indicate by check mark if the registrant is a well-known seasoned issuer, as defined in rule 405 of the securities act',\n",
       " 'yes \\xc3\\xbe no',\n",
       " 'indicate by check mark if the registrant is not required to file reports pursuant to section 13 or section 15(d) of the act',\n",
       " 'yes',\n",
       " 'no \\xc3\\xbe indicate by check mark whether the registrant (1) has filed all reports required to be filed by section 13 or 15(d) of the securities exchange act of 1934 during the preceding 12 months (or for such shorter period that the registrant was required to file such reports), and (2) has been subject to such filing requirements for the past 90 days',\n",
       " 'yes \\xc3\\xbe no']"
      ]
     },
     "execution_count": 251,
     "metadata": {},
     "output_type": "execute_result"
    }
   ],
   "source": [
    "# turn every line into a string in a list. \n",
    "# very basic separator, happening at '. '\n",
    "\n",
    "texts = [word for word in tmptmp.lower().split('. ') if word not in stoplist]\n",
    "texts[:20]"
   ]
  },
  {
   "cell_type": "code",
   "execution_count": 163,
   "metadata": {
    "collapsed": false
   },
   "outputs": [
    {
     "name": "stdout",
     "output_type": "stream",
     "text": [
      "76259\n"
     ]
    }
   ],
   "source": [
    "# remove all special characters, numbers, etc\n",
    "# i found that special characters tended to dominate the coefficients.\n",
    "\n",
    "texts2=[]\n",
    "for i in texts:\n",
    "    texts2.append(re.sub('[^A-Za-z]+', ' ', i))\n",
    "texts = texts2\n",
    "del texts2\n",
    "print len(texts)"
   ]
  },
  {
   "cell_type": "code",
   "execution_count": 164,
   "metadata": {
    "collapsed": true
   },
   "outputs": [],
   "source": [
    "# gensim wants everything to be turned into a dictionary in the tutorial\n",
    "\n",
    "from collections import defaultdict\n",
    "frequency = defaultdict(int)\n",
    "for text in texts:\n",
    "    for token in text.split(\" \"):\n",
    "        frequency[token] += 1"
   ]
  },
  {
   "cell_type": "code",
   "execution_count": 165,
   "metadata": {
    "collapsed": false
   },
   "outputs": [],
   "source": [
    "# again, sloppy written code to remove stopwords from corpus\n",
    "# and to make a sentence into a list of strings\n",
    "\n",
    "texts2 = []\n",
    "for line in texts:\n",
    "    texts2.append([j for j in line.split(\" \") if frequency[j] > 1 and j not in stoplist])\n",
    "texts = texts2\n",
    "del texts2"
   ]
  },
  {
   "cell_type": "code",
   "execution_count": 166,
   "metadata": {
    "collapsed": false
   },
   "outputs": [
    {
     "name": "stdout",
     "output_type": "stream",
     "text": [
      "[['united',\n",
      "  'states',\n",
      "  'securities',\n",
      "  'exchange',\n",
      "  'commission',\n",
      "  'washington',\n",
      "  'd',\n",
      "  'c']]\n"
     ]
    }
   ],
   "source": [
    "from pprint import pprint\n",
    "pprint(texts[:1])"
   ]
  },
  {
   "cell_type": "code",
   "execution_count": 199,
   "metadata": {
    "collapsed": false
   },
   "outputs": [],
   "source": [
    "# code to remove all sentence strings that are less than 4 items long\n",
    "\n",
    "for i in texts:\n",
    "    if len(i) < 4: \n",
    "        texts.remove(i)"
   ]
  },
  {
   "cell_type": "code",
   "execution_count": 200,
   "metadata": {
    "collapsed": false
   },
   "outputs": [
    {
     "name": "stdout",
     "output_type": "stream",
     "text": [
      "Dictionary(8533 unique tokens: [u'', u'four', u'woods', u'cyprus', u'localized']...)\n"
     ]
    }
   ],
   "source": [
    "# using gensim.corpora to develop a dictionary\n",
    "\n",
    "dictionary = corpora.Dictionary(texts)\n",
    "dictionary.save('annualreports.mdl') # store the dictionary, for future reference\n",
    "print(dictionary)"
   ]
  },
  {
   "cell_type": "code",
   "execution_count": 201,
   "metadata": {
    "collapsed": false
   },
   "outputs": [
    {
     "name": "stdout",
     "output_type": "stream",
     "text": [
      "[(281, 1), (417, 1), (426, 1), (587, 1)]\n"
     ]
    }
   ],
   "source": [
    "# using previous dictionary to fit incoming sentence (new_doc)\n",
    "\n",
    "new_doc = \"currency markets for oil are\"\n",
    "new_vec = dictionary.doc2bow(new_doc.lower().split())\n",
    "print(new_vec) # the word \"interaction\" does not appear in the dictionary and is ignored\n",
    "# returns [(token_id, token_count), ...] for incoming sentence"
   ]
  },
  {
   "cell_type": "code",
   "execution_count": 202,
   "metadata": {
    "collapsed": false
   },
   "outputs": [],
   "source": [
    "# generate corpus\n",
    "\n",
    "corpus = [dictionary.doc2bow(text) for text in texts]\n",
    "# corpora.MmCorpus.serialize('/tmp/deerwester.mm', corpus) # store to disk, for later use"
   ]
  },
  {
   "cell_type": "code",
   "execution_count": 203,
   "metadata": {
    "collapsed": true
   },
   "outputs": [],
   "source": [
    "# develop a tfidf stack using the corpus\n",
    "tfidf = models.TfidfModel(corpus)"
   ]
  },
  {
   "cell_type": "code",
   "execution_count": 204,
   "metadata": {
    "collapsed": false
   },
   "outputs": [
    {
     "name": "stdout",
     "output_type": "stream",
     "text": [
      "TfidfModel(num_docs=57205, num_nnz=701638)\n"
     ]
    }
   ],
   "source": [
    "print tfidf"
   ]
  },
  {
   "cell_type": "code",
   "execution_count": 205,
   "metadata": {
    "collapsed": true
   },
   "outputs": [],
   "source": [
    "# fitting the corpus into the tfidf we created\n",
    "\n",
    "corpus_tfidf = tfidf[corpus]"
   ]
  },
  {
   "cell_type": "code",
   "execution_count": 206,
   "metadata": {
    "collapsed": false
   },
   "outputs": [
    {
     "name": "stdout",
     "output_type": "stream",
     "text": [
      "[(0, 0.3065750480810752), (1, 0.3562708419892729), (2, 0.3129829015322618), (3, 0.33701701564716285), (4, 0.312751658876799), (5, 0.48067925762664876), (6, 0.3074240234412956), (7, 0.3796951178558095)]\n",
      "[(3, 0.3062684551510486), (4, 0.28421700674724176), (6, 0.279375450983933), (8, 0.040901442944238746), (9, 0.36454840583135417), (10, 0.16376319434980724), (11, 0.32258823765800526), (12, 0.28235698484437616), (13, 0.3062684551510486), (14, 0.2761606109634659), (15, 0.2104271581586034), (16, 0.19730755720376744), (17, 0.2585430637184802), (18, 0.2864869409561377)]\n",
      "[(3, 0.173787008728944), (4, 0.16127427621671644), (6, 0.15852701485320178), (7, 0.19579450205039073), (11, 0.18304740148990326), (13, 0.173787008728944), (14, 0.1567028066420638), (17, 0.1467060185780207), (18, 0.08128115656592508), (19, 0.2555716918964065), (20, 0.5264663743460074), (21, 0.09036732101119045), (22, 0.1837154833495993), (23, 0.14040895299588343), (24, 0.2342559086678442), (25, 0.1378969710717291), (26, 0.11834707656404637), (27, 0.07743729472966328), (28, 0.17859722476085912), (29, 0.20685701031498888), (30, 0.1638031014263153), (31, 0.2730324596807344), (32, 0.18260893699664998), (33, 0.23771421906745693)]\n",
      "[(8, 0.053080361517121734), (18, 0.18589601370075973), (34, 0.41416669813792917), (35, 0.24958827762330238), (36, 0.26897122707477317), (37, 0.3328407603205783), (38, 0.41416669813792917), (39, 0.1784254960064517), (40, 0.10877366789247399), (41, 0.2647739724727007), (42, 0.2884983409769639), (43, 0.2668180654260916), (44, 0.3254818594507005)]\n",
      "[(8, 0.07389028535405492), (45, 0.6043873027318613), (46, 0.2782737234417766), (47, 0.7428458446196301)]\n"
     ]
    }
   ],
   "source": [
    "for doc in corpus_tfidf[:5]:\n",
    "    print(doc)"
   ]
  },
  {
   "cell_type": "code",
   "execution_count": 236,
   "metadata": {
    "collapsed": false
   },
   "outputs": [],
   "source": [
    "# using the tfidf corpus, and the gensim.corpora.dictionary, develop 500 clusterings\n",
    "# this is topic modeling\n",
    "\n",
    "lsi = models.LsiModel(corpus_tfidf, id2word=dictionary, num_topics=500) # initialize an LSI transformation\n"
   ]
  },
  {
   "cell_type": "code",
   "execution_count": 237,
   "metadata": {
    "collapsed": true
   },
   "outputs": [],
   "source": [
    "# fit corpus_lsi to the lsi model we have generated\n",
    "\n",
    "corpus_lsi = lsi[corpus_tfidf]"
   ]
  },
  {
   "cell_type": "code",
   "execution_count": 238,
   "metadata": {
    "collapsed": false
   },
   "outputs": [
    {
     "data": {
      "text/plain": [
       "57205"
      ]
     },
     "execution_count": 238,
     "metadata": {},
     "output_type": "execute_result"
    }
   ],
   "source": [
    "len(corpus_lsi)\n",
    "# 57205 lines"
   ]
  },
  {
   "cell_type": "code",
   "execution_count": 239,
   "metadata": {
    "collapsed": false
   },
   "outputs": [
    {
     "data": {
      "text/plain": [
       "500"
      ]
     },
     "execution_count": 239,
     "metadata": {},
     "output_type": "execute_result"
    }
   ],
   "source": [
    "len(corpus_lsi[1])\n",
    "# 500 fitted features"
   ]
  },
  {
   "cell_type": "code",
   "execution_count": 240,
   "metadata": {
    "collapsed": false
   },
   "outputs": [
    {
     "data": {
      "text/plain": [
       "<matplotlib.axes._subplots.AxesSubplot at 0x10e53aad0>"
      ]
     },
     "execution_count": 240,
     "metadata": {},
     "output_type": "execute_result"
    },
    {
     "data": {
      "image/png": "[encoded data removed]",
      "text/plain": [
       "<matplotlib.figure.Figure at 0x1aeedd0d0>"
      ]
     },
     "metadata": {},
     "output_type": "display_data"
    }
   ],
   "source": [
    "plt.figure(figsize=(12,8))\n",
    "pd.Series(zip(*corpus_lsi[0])[1]).plot(kind='kde', xlim=(0,0.7))"
   ]
  },
  {
   "cell_type": "code",
   "execution_count": 252,
   "metadata": {
    "collapsed": false
   },
   "outputs": [
    {
     "data": {
      "text/plain": [
       "[(0, 0.074485105691345074),\n",
       " (1, 0.030969269572995138),\n",
       " (2, 0.023026649631528229),\n",
       " (3, -0.014843670324095467),\n",
       " (4, -0.0085760952679070097),\n",
       " (5, 0.030455909649347329),\n",
       " (6, 0.0023190645935189011),\n",
       " (7, 0.0087589733578357989),\n",
       " (8, 0.10592970284822451),\n",
       " (9, 0.032321720875038124),\n",
       " (10, 0.12691452812398146),\n",
       " (11, 0.0070995551356176217),\n",
       " (12, -0.01410586707044063),\n",
       " (13, 0.054383968601318104),\n",
       " (14, -0.024467020245203142),\n",
       " (15, -0.029175973876231595),\n",
       " (16, 0.060664531293622689),\n",
       " (17, 0.020904821062181562),\n",
       " (18, 0.0094956569363603902),\n",
       " (19, -0.019282254406907416)]"
      ]
     },
     "execution_count": 252,
     "metadata": {},
     "output_type": "execute_result"
    }
   ],
   "source": [
    "# how well does sentence 4 fit into each cluster?\n",
    "\n",
    "corpus_lsi[4][:20]"
   ]
  },
  {
   "cell_type": "code",
   "execution_count": 242,
   "metadata": {
    "collapsed": false,
    "scrolled": true
   },
   "outputs": [],
   "source": [
    "# creating a dataframe with the above. leaving out blank lines\n",
    "\n",
    "totalmatr= []\n",
    "nonemptymatr = []\n",
    "for idx, i in enumerate(corpus_lsi):\n",
    "    try:\n",
    "#         print i[0]\n",
    "        one, two = zip(*i)\n",
    "#         print two[:10]\n",
    "        totalmatr.append(list(two))\n",
    "        nonemptymatr.append(idx)\n",
    "    except:\n",
    "        pass"
   ]
  },
  {
   "cell_type": "code",
   "execution_count": 243,
   "metadata": {
    "collapsed": false
   },
   "outputs": [],
   "source": [
    "totalmatrix = pd.DataFrame(totalmatr, index=nonemptymatr)"
   ]
  },
  {
   "cell_type": "code",
   "execution_count": 244,
   "metadata": {
    "collapsed": false
   },
   "outputs": [
    {
     "data": {
      "text/html": [
       "<div>\n",
       "<table border=\"1\" class=\"dataframe\">\n",
       "  <thead>\n",
       "    <tr style=\"text-align: right;\">\n",
       "      <th></th>\n",
       "      <th>0</th>\n",
       "      <th>1</th>\n",
       "      <th>2</th>\n",
       "      <th>3</th>\n",
       "      <th>4</th>\n",
       "      <th>5</th>\n",
       "      <th>6</th>\n",
       "      <th>7</th>\n",
       "      <th>8</th>\n",
       "      <th>9</th>\n",
       "      <th>...</th>\n",
       "      <th>490</th>\n",
       "      <th>491</th>\n",
       "      <th>492</th>\n",
       "      <th>493</th>\n",
       "      <th>494</th>\n",
       "      <th>495</th>\n",
       "      <th>496</th>\n",
       "      <th>497</th>\n",
       "      <th>498</th>\n",
       "      <th>499</th>\n",
       "    </tr>\n",
       "  </thead>\n",
       "  <tbody>\n",
       "    <tr>\n",
       "      <th>0</th>\n",
       "      <td>0.000836</td>\n",
       "      <td>0.030002</td>\n",
       "      <td>0.021385</td>\n",
       "      <td>-0.003275</td>\n",
       "      <td>0.014236</td>\n",
       "      <td>0.019394</td>\n",
       "      <td>-0.009774</td>\n",
       "      <td>0.010045</td>\n",
       "      <td>0.051700</td>\n",
       "      <td>0.016715</td>\n",
       "      <td>...</td>\n",
       "      <td>-0.008368</td>\n",
       "      <td>0.011166</td>\n",
       "      <td>-0.014572</td>\n",
       "      <td>-0.007786</td>\n",
       "      <td>-0.002931</td>\n",
       "      <td>0.006768</td>\n",
       "      <td>-0.002908</td>\n",
       "      <td>-0.001166</td>\n",
       "      <td>0.013003</td>\n",
       "      <td>0.002454</td>\n",
       "    </tr>\n",
       "    <tr>\n",
       "      <th>1</th>\n",
       "      <td>0.044347</td>\n",
       "      <td>0.217530</td>\n",
       "      <td>-0.210227</td>\n",
       "      <td>-0.091985</td>\n",
       "      <td>-0.000341</td>\n",
       "      <td>0.043265</td>\n",
       "      <td>-0.014792</td>\n",
       "      <td>0.142500</td>\n",
       "      <td>0.034234</td>\n",
       "      <td>0.035283</td>\n",
       "      <td>...</td>\n",
       "      <td>-0.027655</td>\n",
       "      <td>-0.000105</td>\n",
       "      <td>-0.005289</td>\n",
       "      <td>0.000937</td>\n",
       "      <td>-0.009039</td>\n",
       "      <td>0.012174</td>\n",
       "      <td>-0.004684</td>\n",
       "      <td>-0.008800</td>\n",
       "      <td>0.002248</td>\n",
       "      <td>0.019632</td>\n",
       "    </tr>\n",
       "    <tr>\n",
       "      <th>2</th>\n",
       "      <td>0.001092</td>\n",
       "      <td>0.077337</td>\n",
       "      <td>0.041162</td>\n",
       "      <td>-0.028745</td>\n",
       "      <td>-0.013941</td>\n",
       "      <td>0.028457</td>\n",
       "      <td>-0.033140</td>\n",
       "      <td>0.024058</td>\n",
       "      <td>0.073720</td>\n",
       "      <td>0.018755</td>\n",
       "      <td>...</td>\n",
       "      <td>-0.003621</td>\n",
       "      <td>-0.008314</td>\n",
       "      <td>-0.002116</td>\n",
       "      <td>0.002921</td>\n",
       "      <td>-0.009264</td>\n",
       "      <td>0.011594</td>\n",
       "      <td>-0.009418</td>\n",
       "      <td>0.014759</td>\n",
       "      <td>0.002032</td>\n",
       "      <td>0.033452</td>\n",
       "    </tr>\n",
       "    <tr>\n",
       "      <th>3</th>\n",
       "      <td>0.053813</td>\n",
       "      <td>0.041486</td>\n",
       "      <td>0.036117</td>\n",
       "      <td>0.000928</td>\n",
       "      <td>-0.012586</td>\n",
       "      <td>-0.001213</td>\n",
       "      <td>-0.023136</td>\n",
       "      <td>0.041565</td>\n",
       "      <td>-0.032055</td>\n",
       "      <td>0.046989</td>\n",
       "      <td>...</td>\n",
       "      <td>0.012951</td>\n",
       "      <td>0.014330</td>\n",
       "      <td>-0.003047</td>\n",
       "      <td>0.001956</td>\n",
       "      <td>0.009349</td>\n",
       "      <td>0.003418</td>\n",
       "      <td>-0.006981</td>\n",
       "      <td>-0.006271</td>\n",
       "      <td>-0.008050</td>\n",
       "      <td>0.002660</td>\n",
       "    </tr>\n",
       "    <tr>\n",
       "      <th>4</th>\n",
       "      <td>0.074485</td>\n",
       "      <td>0.030969</td>\n",
       "      <td>0.023027</td>\n",
       "      <td>-0.014844</td>\n",
       "      <td>-0.008576</td>\n",
       "      <td>0.030456</td>\n",
       "      <td>0.002319</td>\n",
       "      <td>0.008759</td>\n",
       "      <td>0.105930</td>\n",
       "      <td>0.032322</td>\n",
       "      <td>...</td>\n",
       "      <td>-0.041867</td>\n",
       "      <td>-0.023551</td>\n",
       "      <td>0.019522</td>\n",
       "      <td>0.005294</td>\n",
       "      <td>-0.021600</td>\n",
       "      <td>0.030422</td>\n",
       "      <td>-0.011970</td>\n",
       "      <td>-0.012911</td>\n",
       "      <td>-0.011799</td>\n",
       "      <td>0.025459</td>\n",
       "    </tr>\n",
       "  </tbody>\n",
       "</table>\n",
       "<p>5 rows × 500 columns</p>\n",
       "</div>"
      ],
      "text/plain": [
       "        0         1         2         3         4         5         6    \\\n",
       "0  0.000836  0.030002  0.021385 -0.003275  0.014236  0.019394 -0.009774   \n",
       "1  0.044347  0.217530 -0.210227 -0.091985 -0.000341  0.043265 -0.014792   \n",
       "2  0.001092  0.077337  0.041162 -0.028745 -0.013941  0.028457 -0.033140   \n",
       "3  0.053813  0.041486  0.036117  0.000928 -0.012586 -0.001213 -0.023136   \n",
       "4  0.074485  0.030969  0.023027 -0.014844 -0.008576  0.030456  0.002319   \n",
       "\n",
       "        7         8         9      ...          490       491       492  \\\n",
       "0  0.010045  0.051700  0.016715    ...    -0.008368  0.011166 -0.014572   \n",
       "1  0.142500  0.034234  0.035283    ...    -0.027655 -0.000105 -0.005289   \n",
       "2  0.024058  0.073720  0.018755    ...    -0.003621 -0.008314 -0.002116   \n",
       "3  0.041565 -0.032055  0.046989    ...     0.012951  0.014330 -0.003047   \n",
       "4  0.008759  0.105930  0.032322    ...    -0.041867 -0.023551  0.019522   \n",
       "\n",
       "        493       494       495       496       497       498       499  \n",
       "0 -0.007786 -0.002931  0.006768 -0.002908 -0.001166  0.013003  0.002454  \n",
       "1  0.000937 -0.009039  0.012174 -0.004684 -0.008800  0.002248  0.019632  \n",
       "2  0.002921 -0.009264  0.011594 -0.009418  0.014759  0.002032  0.033452  \n",
       "3  0.001956  0.009349  0.003418 -0.006981 -0.006271 -0.008050  0.002660  \n",
       "4  0.005294 -0.021600  0.030422 -0.011970 -0.012911 -0.011799  0.025459  \n",
       "\n",
       "[5 rows x 500 columns]"
      ]
     },
     "execution_count": 244,
     "metadata": {},
     "output_type": "execute_result"
    }
   ],
   "source": [
    "# visual output of the dataframe\n",
    "\n",
    "totalmatrix.head()"
   ]
  },
  {
   "cell_type": "code",
   "execution_count": 245,
   "metadata": {
    "collapsed": false
   },
   "outputs": [
    {
     "data": {
      "text/plain": [
       "5246"
      ]
     },
     "execution_count": 245,
     "metadata": {},
     "output_type": "execute_result"
    }
   ],
   "source": [
    "totalmatrix[0].idxmax()"
   ]
  },
  {
   "cell_type": "code",
   "execution_count": 246,
   "metadata": {
    "collapsed": false
   },
   "outputs": [
    {
     "data": {
      "text/plain": [
       "[(0,\n",
       "  u'1.000*\"\" + 0.007*\"total\" + 0.007*\"december\" + 0.006*\"income\" + 0.005*\"net\" + 0.005*\"other\" + 0.004*\"ended\" + 0.003*\"year\" + 0.003*\"millions\" + 0.003*\"loss\"'),\n",
       " (1,\n",
       "  u'0.295*\"december\" + 0.238*\"ended\" + 0.228*\"million\" + 0.217*\"year\" + 0.201*\"our\" + 0.144*\"net\" + 0.141*\"as\" + 0.136*\"gas\" + 0.135*\"income\" + 0.135*\"on\"'),\n",
       " (2,\n",
       "  u'-0.494*\"december\" + -0.491*\"ended\" + -0.403*\"year\" + -0.174*\"million\" + 0.154*\"our\" + 0.120*\"gas\" + 0.117*\"or\" + 0.111*\"oil\" + -0.104*\"years\" + 0.095*\"are\"'),\n",
       " (3,\n",
       "  u'0.534*\"total\" + 0.508*\"income\" + 0.324*\"net\" + 0.192*\"loss\" + 0.166*\"other\" + 0.151*\"tax\" + 0.138*\"taxes\" + -0.128*\"our\" + 0.118*\"expense\" + 0.097*\"comprehensive\"'),\n",
       " (4,\n",
       "  u'0.718*\"total\" + -0.382*\"income\" + -0.214*\"net\" + 0.194*\"gas\" + 0.176*\"oil\" + 0.161*\"natural\" + -0.155*\"loss\" + -0.124*\"tax\" + 0.102*\"production\" + -0.099*\"taxes\"'),\n",
       " (5,\n",
       "  u'0.327*\"total\" + -0.318*\"gas\" + 0.303*\"financial\" + 0.295*\"consolidated\" + 0.289*\"statements\" + -0.275*\"oil\" + -0.257*\"natural\" + 0.237*\"notes\" + -0.156*\"net\" + -0.139*\"production\"'),\n",
       " (6,\n",
       "  u'0.310*\"consolidated\" + 0.305*\"gas\" + 0.292*\"statements\" + -0.278*\"million\" + 0.259*\"financial\" + 0.251*\"natural\" + 0.250*\"oil\" + 0.213*\"notes\" + 0.157*\"income\" + 0.113*\"per\"'),\n",
       " (7,\n",
       "  u'-0.734*\"million\" + -0.212*\"notes\" + 0.179*\"december\" + 0.176*\"ended\" + 0.165*\"income\" + -0.139*\"consolidated\" + -0.133*\"statements\" + 0.128*\"year\" + 0.126*\"other\" + 0.116*\"or\"'),\n",
       " (8,\n",
       "  u'0.344*\"s\" + 0.292*\"per\" + 0.254*\"u\" + 0.250*\"common\" + 0.217*\"stock\" + -0.173*\"our\" + 0.157*\"share\" + 0.151*\"units\" + 0.148*\"company\" + -0.127*\"other\"'),\n",
       " (9,\n",
       "  u'-0.508*\"cash\" + -0.463*\"net\" + 0.266*\"other\" + 0.205*\"income\" + -0.200*\"activities\" + -0.199*\"flows\" + 0.172*\"million\" + 0.160*\"tax\" + 0.131*\"taxes\" + 0.129*\"expense\"')]"
      ]
     },
     "execution_count": 246,
     "metadata": {},
     "output_type": "execute_result"
    }
   ],
   "source": [
    "# seeing the coefficient of each topic.\n",
    "# read: \n",
    "# ( sentence_id, coefficient*word + coef2*word2 + coef3*word3... )\n",
    "# the point is to see which words have the most significant pull or push on the topic\n",
    "\n",
    "lsi.print_topics(10)"
   ]
  },
  {
   "cell_type": "code",
   "execution_count": 247,
   "metadata": {
    "collapsed": true
   },
   "outputs": [],
   "source": [
    "# this is code to generate top X matches for a specific sentence.\n",
    "\n",
    "def similar_lsi(string, n_results):\n",
    "    print string, '\\n'\n",
    "    vec_bow = dictionary.doc2bow(string.lower().split())\n",
    "    vec_lsi = lsi[vec_bow] # convert the query to LSI space\n",
    "    index, score = zip(*sorted(vec_lsi, key=lambda tup: tup[1], reverse=True))\n",
    "    for i in range(n_results):\n",
    "        print score[i], texts[index[i]], '\\n',\n",
    "    print index[:20]"
   ]
  },
  {
   "cell_type": "code",
   "execution_count": 250,
   "metadata": {
    "collapsed": false
   },
   "outputs": [
    {
     "name": "stdout",
     "output_type": "stream",
     "text": [
      "the currency exchange of last year was unfavorable for us \n",
      "\n",
      "0.35677452503 ['other', 'americas', ''] \n",
      "0.354642459468 ['', 'annual', 'report', 'pursuant', 'section', 'or', 'd', 'securities', 'exchange', 'act', 'fiscal', 'year', 'ended', 'december', 'or'] \n",
      "0.303795555471 ['africa', ''] \n",
      "0.245456604237 ['reports', 'are', 'also', 'available', 'on', 'sec', 's', 'website', 'at', 'www', 'sec', 'gov'] \n",
      "0.232719831146 ['millions', 'cubic', 'feet', 'per', 'day', 'mmcfpd', ''] \n",
      "0.228177427315 ['australia', 'oceania', ''] \n",
      "0.226956216204 ['changes', 'disagreements', 'with', 'accountants', 'on', 'accounting', 'financial', 'disclosure'] \n",
      "0.224630484513 ['unresolved', 'staff', 'comments', ''] \n",
      "0.202331604933 ['', 'company', 'holds', 'percent', 'nonoperated', 'working', 'interest', 'heavy', 'oil', 'hebron', 'field', 'also', 'offshore', 'atlantic', 'canada'] \n",
      "0.1962222453 ['at', 'december', 'percent', 'company', 's', 'net', 'proved', 'reserves', 'were', 'located', 'kazakhstan', 'percent', 'were', 'located', 'united', 'states'] \n",
      "(174, 1, 153, 80, 115, 176, 35, 28, 275, 94, 93, 88, 32, 131, 21, 198, 134, 135, 33, 74)\n"
     ]
    }
   ],
   "source": [
    "# similar_lsi(string, n_results):\n",
    "\n",
    "similar_lsi('the currency exchange of last year was unfavorable for us', 10)"
   ]
  }
 ],
 "metadata": {
  "kernelspec": {
   "display_name": "Python 2",
   "language": "python",
   "name": "python2"
  },
  "language_info": {
   "codemirror_mode": {
    "name": "ipython",
    "version": 2
   },
   "file_extension": ".py",
   "mimetype": "text/x-python",
   "name": "python",
   "nbconvert_exporter": "python",
   "pygments_lexer": "ipython2",
   "version": "2.7.11"
  }
 },
 "nbformat": 4,
 "nbformat_minor": 0
}
